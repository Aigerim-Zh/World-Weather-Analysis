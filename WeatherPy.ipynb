{
 "cells": [
  {
   "cell_type": "markdown",
   "id": "84801132",
   "metadata": {},
   "source": [
    "# Generating 2000 Random Latitudes and Longitudes"
   ]
  },
  {
   "cell_type": "code",
   "execution_count": 2,
   "id": "94fb2775",
   "metadata": {},
   "outputs": [],
   "source": [
    "# Import the dependencies\n",
    "import pandas as pd\n",
    "import matplotlib.pyplot as plt\n",
    "import numpy as np"
   ]
  },
  {
   "cell_type": "code",
   "execution_count": 3,
   "id": "006904b6",
   "metadata": {},
   "outputs": [
    {
     "data": {
      "text/plain": [
       "<zip at 0x7f96a80231e0>"
      ]
     },
     "execution_count": 3,
     "metadata": {},
     "output_type": "execute_result"
    }
   ],
   "source": [
    "# Create a set of uniform latitude and longitude combinations\n",
    "lats = np.random.uniform(low=-90.000, high=90.000, size=2000)\n",
    "lngs = np.random.uniform(low=-180.000, high=180.000, size=2000)\n",
    "lat_lngs = zip(lats, lngs)\n",
    "lat_lngs"
   ]
  },
  {
   "cell_type": "code",
   "execution_count": 4,
   "id": "ddffec5f",
   "metadata": {},
   "outputs": [],
   "source": [
    "# Unpacking the lat_lngs zip object into a list of coordinates (list of tuples)\n",
    "# In this way, random latitudes and longitudes need to be created only once\n",
    "coordinates = list(lat_lngs)"
   ]
  },
  {
   "cell_type": "markdown",
   "id": "3821e4d5",
   "metadata": {},
   "source": [
    "# Finding Corresponding Cities for Generated Coordinates"
   ]
  },
  {
   "cell_type": "markdown",
   "id": "8d02d626",
   "metadata": {},
   "source": [
    "The citipy module finds the nearest city to the latitude and longitude pair with a population of 500 and more."
   ]
  },
  {
   "cell_type": "code",
   "execution_count": 5,
   "id": "4bd40f5e",
   "metadata": {},
   "outputs": [],
   "source": [
    "# From the citipy module import a citipy script\n",
    "# Use the citipy module to determine city based on latitude and longitude.\n",
    "from citipy import citipy"
   ]
  },
  {
   "cell_type": "code",
   "execution_count": 6,
   "id": "c13cd1a3",
   "metadata": {},
   "outputs": [
    {
     "data": {
      "text/plain": [
       "729"
      ]
     },
     "execution_count": 6,
     "metadata": {},
     "output_type": "execute_result"
    }
   ],
   "source": [
    "# Create a list for holding the cities \n",
    "cities = []\n",
    "# Identify the nearest city for each latitude and longitude combination\n",
    "for coordinate in coordinates:\n",
    "    city = citipy.nearest_city(coordinate[0], coordinate[1]).city_name\n",
    "    \n",
    "    if city not in cities:\n",
    "        cities.append(city)\n",
    "# Print the city count to confirm the sufficient count\n",
    "len(cities)\n",
    "# only 729 cities added from 2000 random latitudes and longitudes because only unique pairs were added. \n",
    "# there must have been duplicates in the generated lat and lngs."
   ]
  },
  {
   "cell_type": "markdown",
   "id": "b562f0f0",
   "metadata": {},
   "source": [
    "**There are only 729 UNIQUE cities generated because of duplicate combinations of latitudes and longitudes.**"
   ]
  },
  {
   "cell_type": "markdown",
   "id": "c3e4ca06",
   "metadata": {},
   "source": [
    "# Example of API Request for Weather Data in Boston"
   ]
  },
  {
   "cell_type": "code",
   "execution_count": 7,
   "id": "1dabffd2",
   "metadata": {},
   "outputs": [],
   "source": [
    "# Import requests library to request data through API\n",
    "import requests"
   ]
  },
  {
   "cell_type": "code",
   "execution_count": 8,
   "id": "244da744",
   "metadata": {},
   "outputs": [],
   "source": [
    "# Import the API key\n",
    "from config import api_key"
   ]
  },
  {
   "cell_type": "code",
   "execution_count": 9,
   "id": "9faf70ca",
   "metadata": {},
   "outputs": [],
   "source": [
    "# Starting URL for Weather Map API Call.\n",
    "url = \"http://api.openweathermap.org/data/2.5/weather?units=Imperial&APPID=\" + api_key"
   ]
  },
  {
   "cell_type": "code",
   "execution_count": 10,
   "id": "0de2cce2",
   "metadata": {},
   "outputs": [],
   "source": [
    "# Create an end point url for the city \n",
    "query = \"Boston\""
   ]
  },
  {
   "cell_type": "code",
   "execution_count": 11,
   "id": "4a200bc4",
   "metadata": {},
   "outputs": [
    {
     "name": "stdout",
     "output_type": "stream",
     "text": [
      "http://api.openweathermap.org/data/2.5/weather?units=Imperial&APPID=cc343adc8265fc01f4a59b9598ba22e9&q=Boston\n"
     ]
    }
   ],
   "source": [
    "query_url = url + \"&q=\" + query\n",
    "print(query_url)"
   ]
  },
  {
   "cell_type": "code",
   "execution_count": 12,
   "id": "11a2755f",
   "metadata": {},
   "outputs": [
    {
     "data": {
      "text/plain": [
       "200"
      ]
     },
     "execution_count": 12,
     "metadata": {},
     "output_type": "execute_result"
    }
   ],
   "source": [
    "city_weather = requests.get(query_url)\n",
    "city_weather.status_code"
   ]
  },
  {
   "cell_type": "code",
   "execution_count": 13,
   "id": "3658ebed",
   "metadata": {},
   "outputs": [
    {
     "name": "stdout",
     "output_type": "stream",
     "text": [
      "City Weather found.\n"
     ]
    }
   ],
   "source": [
    "city_weather = requests.get(query_url)\n",
    "if city_weather.status_code==200:\n",
    "    print(f\"City Weather found.\")\n",
    "else:\n",
    "    print(f\"City Weather not found.\")"
   ]
  },
  {
   "cell_type": "code",
   "execution_count": 14,
   "id": "7a09c3f3",
   "metadata": {},
   "outputs": [
    {
     "data": {
      "text/plain": [
       "'{\"coord\":{\"lon\":-71.0598,\"lat\":42.3584},\"weather\":[{\"id\":802,\"main\":\"Clouds\",\"description\":\"scattered clouds\",\"icon\":\"03d\"}],\"base\":\"stations\",\"main\":{\"temp\":36.66,\"feels_like\":28.26,\"temp_min\":31.62,\"temp_max\":40.1,\"pressure\":1010,\"humidity\":46},\"visibility\":10000,\"wind\":{\"speed\":13,\"deg\":288,\"gust\":20},\"clouds\":{\"all\":42},\"dt\":1645289833,\"sys\":{\"type\":2,\"id\":2013408,\"country\":\"US\",\"sunrise\":1645270516,\"sunset\":1645309271},\"timezone\":-18000,\"id\":4930956,\"name\":\"Boston\",\"cod\":200}'"
      ]
     },
     "execution_count": 14,
     "metadata": {},
     "output_type": "execute_result"
    }
   ],
   "source": [
    "city_weather.text"
   ]
  },
  {
   "cell_type": "code",
   "execution_count": 15,
   "id": "77dd668f",
   "metadata": {},
   "outputs": [
    {
     "data": {
      "text/plain": [
       "{'coord': {'lon': -71.0598, 'lat': 42.3584},\n",
       " 'weather': [{'id': 802,\n",
       "   'main': 'Clouds',\n",
       "   'description': 'scattered clouds',\n",
       "   'icon': '03d'}],\n",
       " 'base': 'stations',\n",
       " 'main': {'temp': 36.66,\n",
       "  'feels_like': 28.26,\n",
       "  'temp_min': 31.62,\n",
       "  'temp_max': 40.1,\n",
       "  'pressure': 1010,\n",
       "  'humidity': 46},\n",
       " 'visibility': 10000,\n",
       " 'wind': {'speed': 13, 'deg': 288, 'gust': 20},\n",
       " 'clouds': {'all': 42},\n",
       " 'dt': 1645289833,\n",
       " 'sys': {'type': 2,\n",
       "  'id': 2013408,\n",
       "  'country': 'US',\n",
       "  'sunrise': 1645270516,\n",
       "  'sunset': 1645309271},\n",
       " 'timezone': -18000,\n",
       " 'id': 4930956,\n",
       " 'name': 'Boston',\n",
       " 'cod': 200}"
      ]
     },
     "execution_count": 15,
     "metadata": {},
     "output_type": "execute_result"
    }
   ],
   "source": [
    "boston_data = city_weather.json()\n",
    "boston_data"
   ]
  },
  {
   "cell_type": "code",
   "execution_count": 16,
   "id": "61a62f2c",
   "metadata": {},
   "outputs": [
    {
     "name": "stdout",
     "output_type": "stream",
     "text": [
      "42.3584 -71.0598 40.1 46 42 13\n"
     ]
    }
   ],
   "source": [
    "lat = boston_data[\"coord\"][\"lat\"]\n",
    "lng = boston_data[\"coord\"][\"lon\"]\n",
    "max_temp = boston_data[\"main\"][\"temp_max\"]\n",
    "humidity = boston_data[\"main\"][\"humidity\"]\n",
    "clouds = boston_data[\"clouds\"][\"all\"]\n",
    "wind = boston_data[\"wind\"][\"speed\"]\n",
    "print(lat, lng, max_temp, humidity, clouds, wind)"
   ]
  },
  {
   "cell_type": "code",
   "execution_count": 17,
   "id": "368de028",
   "metadata": {},
   "outputs": [
    {
     "data": {
      "text/plain": [
       "1645289833"
      ]
     },
     "execution_count": 17,
     "metadata": {},
     "output_type": "execute_result"
    }
   ],
   "source": [
    "# save the date timestamp\n",
    "date = boston_data[\"dt\"]\n",
    "date"
   ]
  },
  {
   "cell_type": "code",
   "execution_count": 18,
   "id": "a1eb9a86",
   "metadata": {},
   "outputs": [],
   "source": [
    "# Import the datetime module from the datetime library.\n",
    "from datetime import datetime"
   ]
  },
  {
   "cell_type": "code",
   "execution_count": 19,
   "id": "7f790970",
   "metadata": {},
   "outputs": [
    {
     "data": {
      "text/plain": [
       "'2022-02-19 16:57:13'"
      ]
     },
     "execution_count": 19,
     "metadata": {},
     "output_type": "execute_result"
    }
   ],
   "source": [
    "# Convert the UTC date to a date format with year, month, day, hours, minutes, and seconds.\n",
    "datetime.utcfromtimestamp(date).strftime('%Y-%m-%d %H:%M:%S')"
   ]
  },
  {
   "cell_type": "markdown",
   "id": "29eab03f",
   "metadata": {},
   "source": [
    "# Making an API Call to Request Weather Data for All 729 Cities"
   ]
  },
  {
   "cell_type": "code",
   "execution_count": 22,
   "id": "60d7d65e",
   "metadata": {},
   "outputs": [],
   "source": [
    "# Create a list for holding extracted weather data for cities\n",
    "city_data=[]"
   ]
  },
  {
   "cell_type": "code",
   "execution_count": 21,
   "id": "ca1bfdee",
   "metadata": {},
   "outputs": [],
   "source": [
    "import time"
   ]
  },
  {
   "cell_type": "markdown",
   "id": "43a8f373",
   "metadata": {},
   "source": [
    "**The OpenWeatherMap API** only allows 60 calls per minute on their free tier, so we need to pause our program for one minite after each set of 50 to prevent time-out erros. \n",
    "\n",
    "We will group the cities in sets of 50 to log the process as we find the weather data for each city\n",
    "Two counters will be needed - one to log the city count from 1 to 50, and another to log the sets \n",
    "\n",
    "We need to iterate through our list of cities and build url for each city, while grouping them in sets of 50. To do this, we use \n",
    "_for i, city in enumerate(cities):_ \n",
    "\n",
    "and the index will tell us when we get to 50. \n",
    "\n",
    "Once we get to 50, we tell the program to pause for 60 seconds using \n",
    "_time.sleep(60)_"
   ]
  },
  {
   "cell_type": "code",
   "execution_count": 23,
   "id": "edee1f30",
   "metadata": {},
   "outputs": [
    {
     "name": "stdout",
     "output_type": "stream",
     "text": [
      "Beginning Data Retrieval     \n",
      "-----------------------------\n",
      "Processing Record 1 of Set 1 | axim\n",
      "Processing Record 2 of Set 1 | zolotinka\n",
      "City not found. Skipping...\n",
      "Processing Record 3 of Set 1 | gwadar\n",
      "Processing Record 4 of Set 1 | assiniboia\n",
      "Processing Record 5 of Set 1 | punta arenas\n",
      "Processing Record 6 of Set 1 | hermanus\n",
      "Processing Record 7 of Set 1 | rikitea\n",
      "Processing Record 8 of Set 1 | zachepylivka\n",
      "Processing Record 9 of Set 1 | taolanaro\n",
      "City not found. Skipping...\n",
      "Processing Record 10 of Set 1 | cabo san lucas\n",
      "Processing Record 11 of Set 1 | kirkland lake\n",
      "Processing Record 12 of Set 1 | kerewan\n",
      "Processing Record 13 of Set 1 | seoul\n",
      "Processing Record 14 of Set 1 | katsuura\n",
      "Processing Record 15 of Set 1 | dudinka\n",
      "Processing Record 16 of Set 1 | taseyevo\n",
      "Processing Record 17 of Set 1 | hobart\n",
      "Processing Record 18 of Set 1 | gazanjyk\n",
      "Processing Record 19 of Set 1 | luyang\n",
      "Processing Record 20 of Set 1 | vaitupu\n",
      "City not found. Skipping...\n",
      "Processing Record 21 of Set 1 | santa maria\n",
      "Processing Record 22 of Set 1 | khatanga\n",
      "Processing Record 23 of Set 1 | qaanaaq\n",
      "Processing Record 24 of Set 1 | airai\n",
      "Processing Record 25 of Set 1 | chuy\n",
      "Processing Record 26 of Set 1 | beringovskiy\n",
      "Processing Record 27 of Set 1 | albany\n",
      "Processing Record 28 of Set 1 | sangar\n",
      "Processing Record 29 of Set 1 | le vauclin\n",
      "Processing Record 30 of Set 1 | puerto ayora\n",
      "Processing Record 31 of Set 1 | husavik\n",
      "Processing Record 32 of Set 1 | bredasdorp\n",
      "Processing Record 33 of Set 1 | ushuaia\n",
      "Processing Record 34 of Set 1 | vetluga\n",
      "Processing Record 35 of Set 1 | cidreira\n",
      "Processing Record 36 of Set 1 | longyearbyen\n",
      "Processing Record 37 of Set 1 | atuona\n",
      "Processing Record 38 of Set 1 | cape town\n",
      "Processing Record 39 of Set 1 | salisbury\n",
      "Processing Record 40 of Set 1 | la seyne-sur-mer\n",
      "Processing Record 41 of Set 1 | portland\n",
      "Processing Record 42 of Set 1 | shenjiamen\n",
      "Processing Record 43 of Set 1 | ribeira grande\n",
      "Processing Record 44 of Set 1 | new norfolk\n",
      "Processing Record 45 of Set 1 | lumsden\n",
      "Processing Record 46 of Set 1 | tasiilaq\n",
      "Processing Record 47 of Set 1 | hamilton\n",
      "Processing Record 48 of Set 1 | anar darreh\n",
      "City not found. Skipping...\n",
      "Processing Record 49 of Set 1 | tuggurt\n",
      "City not found. Skipping...\n",
      "Processing Record 50 of Set 1 | staryy nadym\n",
      "Processing Record 1 of Set 2 | jamestown\n",
      "Processing Record 2 of Set 2 | souillac\n",
      "Processing Record 3 of Set 2 | lasa\n",
      "Processing Record 4 of Set 2 | lebu\n",
      "Processing Record 5 of Set 2 | palabuhanratu\n",
      "City not found. Skipping...\n",
      "Processing Record 6 of Set 2 | torbay\n",
      "Processing Record 7 of Set 2 | sitka\n",
      "Processing Record 8 of Set 2 | itarema\n",
      "Processing Record 9 of Set 2 | vaini\n",
      "Processing Record 10 of Set 2 | busselton\n",
      "Processing Record 11 of Set 2 | kapaa\n",
      "Processing Record 12 of Set 2 | avarua\n",
      "Processing Record 13 of Set 2 | naftah\n",
      "City not found. Skipping...\n",
      "Processing Record 14 of Set 2 | sumbawa\n",
      "City not found. Skipping...\n",
      "Processing Record 15 of Set 2 | chiconautla\n",
      "City not found. Skipping...\n",
      "Processing Record 16 of Set 2 | marataizes\n",
      "Processing Record 17 of Set 2 | cherskiy\n",
      "Processing Record 18 of Set 2 | butaritari\n",
      "Processing Record 19 of Set 2 | chokurdakh\n",
      "Processing Record 20 of Set 2 | bambous virieux\n",
      "Processing Record 21 of Set 2 | marsh harbour\n",
      "Processing Record 22 of Set 2 | sentyabrskiy\n",
      "City not found. Skipping...\n",
      "Processing Record 23 of Set 2 | ruatoria\n",
      "City not found. Skipping...\n",
      "Processing Record 24 of Set 2 | guerrero negro\n",
      "Processing Record 25 of Set 2 | victoria\n",
      "Processing Record 26 of Set 2 | kholodnyy\n",
      "Processing Record 27 of Set 2 | illoqqortoormiut\n",
      "City not found. Skipping...\n",
      "Processing Record 28 of Set 2 | omboue\n",
      "Processing Record 29 of Set 2 | guymon\n",
      "Processing Record 30 of Set 2 | wanning\n",
      "Processing Record 31 of Set 2 | camacha\n",
      "Processing Record 32 of Set 2 | yurga\n",
      "Processing Record 33 of Set 2 | zaria\n",
      "Processing Record 34 of Set 2 | rawson\n",
      "Processing Record 35 of Set 2 | bandar-e torkaman\n",
      "City not found. Skipping...\n",
      "Processing Record 36 of Set 2 | mataura\n",
      "Processing Record 37 of Set 2 | lompoc\n",
      "Processing Record 38 of Set 2 | hambantota\n",
      "Processing Record 39 of Set 2 | yumen\n",
      "Processing Record 40 of Set 2 | klaksvik\n",
      "Processing Record 41 of Set 2 | pontypool\n",
      "Processing Record 42 of Set 2 | port elizabeth\n",
      "Processing Record 43 of Set 2 | ingham\n",
      "Processing Record 44 of Set 2 | vardo\n",
      "Processing Record 45 of Set 2 | samalaeulu\n",
      "City not found. Skipping...\n",
      "Processing Record 46 of Set 2 | mullaitivu\n",
      "City not found. Skipping...\n",
      "Processing Record 47 of Set 2 | bandarbeyla\n",
      "Processing Record 48 of Set 2 | arraial do cabo\n",
      "Processing Record 49 of Set 2 | bluff\n",
      "Processing Record 50 of Set 2 | vostok\n",
      "Processing Record 1 of Set 3 | adrar\n",
      "Processing Record 2 of Set 3 | mendahara\n",
      "City not found. Skipping...\n",
      "Processing Record 3 of Set 3 | belushya guba\n",
      "City not found. Skipping...\n",
      "Processing Record 4 of Set 3 | saint-philippe\n",
      "Processing Record 5 of Set 3 | bengkulu\n",
      "Processing Record 6 of Set 3 | bubaque\n",
      "Processing Record 7 of Set 3 | bitung\n",
      "Processing Record 8 of Set 3 | tilichiki\n",
      "Processing Record 9 of Set 3 | evensk\n",
      "Processing Record 10 of Set 3 | mahebourg\n",
      "Processing Record 11 of Set 3 | kahului\n",
      "Processing Record 12 of Set 3 | havre\n",
      "Processing Record 13 of Set 3 | yar-sale\n",
      "Processing Record 14 of Set 3 | lewiston\n",
      "Processing Record 15 of Set 3 | saskylakh\n",
      "Processing Record 16 of Set 3 | severo-kurilsk\n",
      "Processing Record 17 of Set 3 | margate\n",
      "Processing Record 18 of Set 3 | tautira\n",
      "Processing Record 19 of Set 3 | mar del plata\n",
      "Processing Record 20 of Set 3 | luganville\n",
      "Processing Record 21 of Set 3 | inongo\n",
      "Processing Record 22 of Set 3 | khani\n",
      "Processing Record 23 of Set 3 | east london\n",
      "Processing Record 24 of Set 3 | nalut\n",
      "Processing Record 25 of Set 3 | hobbs\n",
      "Processing Record 26 of Set 3 | nizhneyansk\n",
      "City not found. Skipping...\n",
      "Processing Record 27 of Set 3 | aleksandrovskoye\n",
      "Processing Record 28 of Set 3 | kamenskoye\n",
      "City not found. Skipping...\n",
      "Processing Record 29 of Set 3 | great yarmouth\n",
      "Processing Record 30 of Set 3 | tera\n",
      "Processing Record 31 of Set 3 | hithadhoo\n",
      "Processing Record 32 of Set 3 | nikolskoye\n",
      "Processing Record 33 of Set 3 | kaitangata\n",
      "Processing Record 34 of Set 3 | berdigestyakh\n",
      "Processing Record 35 of Set 3 | flinders\n",
      "Processing Record 36 of Set 3 | tezu\n",
      "Processing Record 37 of Set 3 | carnarvon\n",
      "Processing Record 38 of Set 3 | bay roberts\n",
      "Processing Record 39 of Set 3 | norman wells\n",
      "Processing Record 40 of Set 3 | amderma\n",
      "City not found. Skipping...\n",
      "Processing Record 41 of Set 3 | kavieng\n",
      "Processing Record 42 of Set 3 | castro\n",
      "Processing Record 43 of Set 3 | hilo\n",
      "Processing Record 44 of Set 3 | meulaboh\n",
      "Processing Record 45 of Set 3 | concepcion del uruguay\n",
      "Processing Record 46 of Set 3 | nanganga\n",
      "Processing Record 47 of Set 3 | bud\n",
      "Processing Record 48 of Set 3 | tocopilla\n",
      "Processing Record 49 of Set 3 | georgetown\n",
      "Processing Record 50 of Set 3 | itigi\n",
      "Processing Record 1 of Set 4 | el nispero\n",
      "Processing Record 2 of Set 4 | opuwo\n",
      "Processing Record 3 of Set 4 | korla\n",
      "Processing Record 4 of Set 4 | paso de los toros\n",
      "Processing Record 5 of Set 4 | sola\n",
      "Processing Record 6 of Set 4 | xining\n",
      "Processing Record 7 of Set 4 | puerto del rosario\n",
      "Processing Record 8 of Set 4 | wasilla\n",
      "Processing Record 9 of Set 4 | grand river south east\n",
      "City not found. Skipping...\n",
      "Processing Record 10 of Set 4 | pedregulho\n",
      "Processing Record 11 of Set 4 | kudahuvadhoo\n",
      "Processing Record 12 of Set 4 | esperance\n",
      "Processing Record 13 of Set 4 | khrebtovaya\n",
      "Processing Record 14 of Set 4 | flin flon\n",
      "Processing Record 15 of Set 4 | innisfail\n",
      "Processing Record 16 of Set 4 | chagda\n",
      "City not found. Skipping...\n",
      "Processing Record 17 of Set 4 | fukue\n",
      "Processing Record 18 of Set 4 | attawapiskat\n",
      "City not found. Skipping...\n",
      "Processing Record 19 of Set 4 | lethem\n",
      "Processing Record 20 of Set 4 | waipawa\n",
      "Processing Record 21 of Set 4 | karratha\n",
      "Processing Record 22 of Set 4 | nicoya\n",
      "Processing Record 23 of Set 4 | iskateley\n",
      "Processing Record 24 of Set 4 | cayenne\n",
      "Processing Record 25 of Set 4 | pevek\n",
      "Processing Record 26 of Set 4 | salalah\n",
      "Processing Record 27 of Set 4 | the valley\n",
      "Processing Record 28 of Set 4 | chitipa\n",
      "Processing Record 29 of Set 4 | tarauaca\n",
      "Processing Record 30 of Set 4 | braganca\n",
      "Processing Record 31 of Set 4 | gorin\n"
     ]
    },
    {
     "name": "stdout",
     "output_type": "stream",
     "text": [
      "Processing Record 32 of Set 4 | camalu\n",
      "Processing Record 33 of Set 4 | vigrestad\n",
      "Processing Record 34 of Set 4 | cody\n",
      "Processing Record 35 of Set 4 | saint-augustin\n",
      "Processing Record 36 of Set 4 | dumai\n",
      "Processing Record 37 of Set 4 | zhigansk\n",
      "Processing Record 38 of Set 4 | okhotsk\n",
      "Processing Record 39 of Set 4 | marawi\n",
      "Processing Record 40 of Set 4 | blagoyevo\n",
      "Processing Record 41 of Set 4 | caravelas\n",
      "Processing Record 42 of Set 4 | raghunathpur\n",
      "Processing Record 43 of Set 4 | kropotkin\n",
      "Processing Record 44 of Set 4 | tondano\n",
      "Processing Record 45 of Set 4 | saint anthony\n",
      "Processing Record 46 of Set 4 | ahuimanu\n",
      "Processing Record 47 of Set 4 | hami\n",
      "Processing Record 48 of Set 4 | faya\n",
      "Processing Record 49 of Set 4 | hofn\n",
      "Processing Record 50 of Set 4 | henties bay\n",
      "Processing Record 1 of Set 5 | kuche\n",
      "City not found. Skipping...\n",
      "Processing Record 2 of Set 5 | qaqortoq\n",
      "Processing Record 3 of Set 5 | tsihombe\n",
      "City not found. Skipping...\n",
      "Processing Record 4 of Set 5 | duvan\n",
      "Processing Record 5 of Set 5 | port alfred\n",
      "Processing Record 6 of Set 5 | brandon\n",
      "Processing Record 7 of Set 5 | catabola\n",
      "Processing Record 8 of Set 5 | neuquen\n",
      "Processing Record 9 of Set 5 | acapulco\n",
      "Processing Record 10 of Set 5 | hualmay\n",
      "Processing Record 11 of Set 5 | domoni\n",
      "Processing Record 12 of Set 5 | havre-saint-pierre\n",
      "Processing Record 13 of Set 5 | yellowknife\n",
      "Processing Record 14 of Set 5 | la ronge\n",
      "Processing Record 15 of Set 5 | ladushkin\n",
      "Processing Record 16 of Set 5 | san andres\n",
      "Processing Record 17 of Set 5 | lagoa\n",
      "Processing Record 18 of Set 5 | alta\n",
      "Processing Record 19 of Set 5 | urumqi\n",
      "Processing Record 20 of Set 5 | barrow\n",
      "Processing Record 21 of Set 5 | buraydah\n",
      "Processing Record 22 of Set 5 | bethel\n",
      "Processing Record 23 of Set 5 | leningradskiy\n",
      "Processing Record 24 of Set 5 | chumikan\n",
      "Processing Record 25 of Set 5 | bathsheba\n",
      "Processing Record 26 of Set 5 | murray bridge\n",
      "Processing Record 27 of Set 5 | yeletskiy\n",
      "City not found. Skipping...\n",
      "Processing Record 28 of Set 5 | wamba\n",
      "Processing Record 29 of Set 5 | bressanone\n",
      "Processing Record 30 of Set 5 | mehamn\n",
      "Processing Record 31 of Set 5 | dikson\n",
      "Processing Record 32 of Set 5 | kodiak\n",
      "Processing Record 33 of Set 5 | barentsburg\n",
      "City not found. Skipping...\n",
      "Processing Record 34 of Set 5 | dzilam gonzalez\n",
      "Processing Record 35 of Set 5 | kishi\n",
      "Processing Record 36 of Set 5 | aswan\n",
      "Processing Record 37 of Set 5 | saint-louis\n",
      "Processing Record 38 of Set 5 | beira\n",
      "Processing Record 39 of Set 5 | kamina\n",
      "Processing Record 40 of Set 5 | mys shmidta\n",
      "City not found. Skipping...\n",
      "Processing Record 41 of Set 5 | port macquarie\n",
      "Processing Record 42 of Set 5 | grand centre\n",
      "City not found. Skipping...\n",
      "Processing Record 43 of Set 5 | rudnogorsk\n",
      "Processing Record 44 of Set 5 | tasbuget\n",
      "City not found. Skipping...\n",
      "Processing Record 45 of Set 5 | santa cruz\n",
      "Processing Record 46 of Set 5 | te anau\n",
      "Processing Record 47 of Set 5 | aksarka\n",
      "Processing Record 48 of Set 5 | honiara\n",
      "Processing Record 49 of Set 5 | umm durman\n",
      "City not found. Skipping...\n",
      "Processing Record 50 of Set 5 | bambanglipuro\n",
      "Processing Record 1 of Set 6 | puerto el triunfo\n",
      "Processing Record 2 of Set 6 | pomi\n",
      "Processing Record 3 of Set 6 | sembe\n",
      "Processing Record 4 of Set 6 | beloha\n",
      "Processing Record 5 of Set 6 | grindavik\n",
      "Processing Record 6 of Set 6 | tiksi\n",
      "Processing Record 7 of Set 6 | penzance\n",
      "Processing Record 8 of Set 6 | ifanadiana\n",
      "Processing Record 9 of Set 6 | kudat\n",
      "Processing Record 10 of Set 6 | sao gabriel da cachoeira\n",
      "Processing Record 11 of Set 6 | ialibu\n",
      "Processing Record 12 of Set 6 | kununurra\n",
      "Processing Record 13 of Set 6 | avera\n",
      "Processing Record 14 of Set 6 | magan\n",
      "Processing Record 15 of Set 6 | jilmah\n",
      "City not found. Skipping...\n",
      "Processing Record 16 of Set 6 | thompson\n",
      "Processing Record 17 of Set 6 | provideniya\n",
      "Processing Record 18 of Set 6 | padang\n",
      "Processing Record 19 of Set 6 | lolua\n",
      "City not found. Skipping...\n",
      "Processing Record 20 of Set 6 | touros\n",
      "Processing Record 21 of Set 6 | ntungamo\n",
      "Processing Record 22 of Set 6 | mackay\n",
      "Processing Record 23 of Set 6 | ponta do sol\n",
      "Processing Record 24 of Set 6 | pisco\n",
      "Processing Record 25 of Set 6 | zhezkazgan\n",
      "Processing Record 26 of Set 6 | duz\n",
      "City not found. Skipping...\n",
      "Processing Record 27 of Set 6 | palmer\n",
      "Processing Record 28 of Set 6 | laguna\n",
      "Processing Record 29 of Set 6 | san nicolas\n",
      "Processing Record 30 of Set 6 | manta\n",
      "Processing Record 31 of Set 6 | talnakh\n",
      "Processing Record 32 of Set 6 | naraina\n",
      "Processing Record 33 of Set 6 | coahuayana\n",
      "Processing Record 34 of Set 6 | kasongo-lunda\n",
      "Processing Record 35 of Set 6 | solikamsk\n",
      "Processing Record 36 of Set 6 | bassano\n",
      "Processing Record 37 of Set 6 | coquimbo\n",
      "Processing Record 38 of Set 6 | beyneu\n",
      "Processing Record 39 of Set 6 | rudnaya pristan\n",
      "Processing Record 40 of Set 6 | sibu\n",
      "Processing Record 41 of Set 6 | port lincoln\n",
      "Processing Record 42 of Set 6 | kunyang\n",
      "Processing Record 43 of Set 6 | luanda\n",
      "Processing Record 44 of Set 6 | yeppoon\n",
      "Processing Record 45 of Set 6 | huarmey\n",
      "Processing Record 46 of Set 6 | tumannyy\n",
      "City not found. Skipping...\n",
      "Processing Record 47 of Set 6 | rennes\n",
      "Processing Record 48 of Set 6 | tuktoyaktuk\n",
      "Processing Record 49 of Set 6 | malwan\n",
      "City not found. Skipping...\n",
      "Processing Record 50 of Set 6 | yaan\n",
      "Processing Record 1 of Set 7 | necochea\n",
      "Processing Record 2 of Set 7 | boras\n",
      "Processing Record 3 of Set 7 | marcona\n",
      "City not found. Skipping...\n",
      "Processing Record 4 of Set 7 | ancud\n",
      "Processing Record 5 of Set 7 | narsaq\n",
      "Processing Record 6 of Set 7 | nioro\n",
      "Processing Record 7 of Set 7 | chandvad\n",
      "Processing Record 8 of Set 7 | gao\n",
      "Processing Record 9 of Set 7 | naze\n",
      "Processing Record 10 of Set 7 | cap malheureux\n",
      "Processing Record 11 of Set 7 | merauke\n",
      "Processing Record 12 of Set 7 | skelmersdale\n",
      "Processing Record 13 of Set 7 | vieux-habitants\n",
      "Processing Record 14 of Set 7 | najran\n",
      "Processing Record 15 of Set 7 | santa rosa\n",
      "Processing Record 16 of Set 7 | le port\n",
      "Processing Record 17 of Set 7 | anderson\n",
      "Processing Record 18 of Set 7 | meyungs\n",
      "City not found. Skipping...\n",
      "Processing Record 19 of Set 7 | carman\n",
      "Processing Record 20 of Set 7 | codrington\n",
      "Processing Record 21 of Set 7 | bacuit\n",
      "City not found. Skipping...\n",
      "Processing Record 22 of Set 7 | mago\n",
      "Processing Record 23 of Set 7 | charters towers\n",
      "Processing Record 24 of Set 7 | saint-francois\n",
      "Processing Record 25 of Set 7 | rosarito\n",
      "Processing Record 26 of Set 7 | jaisalmer\n",
      "Processing Record 27 of Set 7 | asau\n",
      "Processing Record 28 of Set 7 | jamame\n",
      "Processing Record 29 of Set 7 | khorramshahr\n",
      "Processing Record 30 of Set 7 | bose\n",
      "Processing Record 31 of Set 7 | upernavik\n",
      "Processing Record 32 of Set 7 | chipinge\n",
      "Processing Record 33 of Set 7 | mount isa\n",
      "Processing Record 34 of Set 7 | geraldton\n",
      "Processing Record 35 of Set 7 | baruun-urt\n",
      "Processing Record 36 of Set 7 | skibbereen\n",
      "Processing Record 37 of Set 7 | kaoma\n",
      "Processing Record 38 of Set 7 | stoyba\n",
      "City not found. Skipping...\n",
      "Processing Record 39 of Set 7 | kiparissia\n",
      "City not found. Skipping...\n",
      "Processing Record 40 of Set 7 | saleaula\n",
      "City not found. Skipping...\n",
      "Processing Record 41 of Set 7 | hasaki\n",
      "Processing Record 42 of Set 7 | vila velha\n",
      "Processing Record 43 of Set 7 | atlantis\n",
      "Processing Record 44 of Set 7 | burnie\n",
      "Processing Record 45 of Set 7 | mareeba\n",
      "Processing Record 46 of Set 7 | port hawkesbury\n",
      "Processing Record 47 of Set 7 | estevan\n",
      "Processing Record 48 of Set 7 | neiafu\n",
      "Processing Record 49 of Set 7 | karaul\n",
      "City not found. Skipping...\n",
      "Processing Record 50 of Set 7 | mogadishu\n",
      "Processing Record 1 of Set 8 | qobustan\n",
      "Processing Record 2 of Set 8 | sao joao da barra\n",
      "Processing Record 3 of Set 8 | san cristobal\n",
      "Processing Record 4 of Set 8 | yichun\n",
      "Processing Record 5 of Set 8 | swan river\n",
      "Processing Record 6 of Set 8 | tula\n",
      "Processing Record 7 of Set 8 | yetkul\n",
      "Processing Record 8 of Set 8 | goderich\n",
      "Processing Record 9 of Set 8 | labutta\n",
      "City not found. Skipping...\n",
      "Processing Record 10 of Set 8 | iseyin\n",
      "Processing Record 11 of Set 8 | mount gambier\n",
      "Processing Record 12 of Set 8 | esna\n",
      "Processing Record 13 of Set 8 | nome\n",
      "Processing Record 14 of Set 8 | primorsk\n",
      "Processing Record 15 of Set 8 | kungalv\n",
      "Processing Record 16 of Set 8 | mpika\n",
      "Processing Record 17 of Set 8 | soddy-daisy\n",
      "Processing Record 18 of Set 8 | yuancheng\n"
     ]
    },
    {
     "name": "stdout",
     "output_type": "stream",
     "text": [
      "Processing Record 19 of Set 8 | kruisfontein\n",
      "Processing Record 20 of Set 8 | aklavik\n",
      "Processing Record 21 of Set 8 | libertador general san martin\n",
      "Processing Record 22 of Set 8 | horconcitos\n",
      "Processing Record 23 of Set 8 | tungkang\n",
      "City not found. Skipping...\n",
      "Processing Record 24 of Set 8 | maceio\n",
      "Processing Record 25 of Set 8 | bucerias\n",
      "Processing Record 26 of Set 8 | dengzhou\n",
      "Processing Record 27 of Set 8 | san patricio\n",
      "Processing Record 28 of Set 8 | rudnya\n",
      "Processing Record 29 of Set 8 | maloshuyka\n",
      "City not found. Skipping...\n",
      "Processing Record 30 of Set 8 | isoka\n",
      "Processing Record 31 of Set 8 | luderitz\n",
      "Processing Record 32 of Set 8 | dutlwe\n",
      "Processing Record 33 of Set 8 | aykhal\n",
      "Processing Record 34 of Set 8 | kurilsk\n",
      "Processing Record 35 of Set 8 | dulce nombre de culmi\n",
      "Processing Record 36 of Set 8 | ostrovnoy\n",
      "Processing Record 37 of Set 8 | samarai\n",
      "Processing Record 38 of Set 8 | sao filipe\n",
      "Processing Record 39 of Set 8 | khandyga\n",
      "Processing Record 40 of Set 8 | cabanas\n",
      "Processing Record 41 of Set 8 | nemuro\n",
      "Processing Record 42 of Set 8 | baracoa\n",
      "Processing Record 43 of Set 8 | cockburn town\n",
      "Processing Record 44 of Set 8 | hobyo\n",
      "Processing Record 45 of Set 8 | san jose de guanipa\n",
      "Processing Record 46 of Set 8 | pahrump\n",
      "Processing Record 47 of Set 8 | sorland\n",
      "Processing Record 48 of Set 8 | grenada\n",
      "Processing Record 49 of Set 8 | saint-georges\n",
      "Processing Record 50 of Set 8 | romny\n",
      "Processing Record 1 of Set 9 | faanui\n",
      "Processing Record 2 of Set 9 | nanortalik\n",
      "Processing Record 3 of Set 9 | muros\n",
      "Processing Record 4 of Set 9 | minab\n",
      "Processing Record 5 of Set 9 | lokosovo\n",
      "Processing Record 6 of Set 9 | eureka\n",
      "Processing Record 7 of Set 9 | abalak\n",
      "Processing Record 8 of Set 9 | lazaro cardenas\n",
      "Processing Record 9 of Set 9 | fossombrone\n",
      "Processing Record 10 of Set 9 | westport\n",
      "Processing Record 11 of Set 9 | bababe\n",
      "City not found. Skipping...\n",
      "Processing Record 12 of Set 9 | fortuna\n",
      "Processing Record 13 of Set 9 | ranapur\n",
      "Processing Record 14 of Set 9 | kattivakkam\n",
      "Processing Record 15 of Set 9 | kilinochchi\n",
      "Processing Record 16 of Set 9 | fasa\n",
      "Processing Record 17 of Set 9 | ban nahin\n",
      "Processing Record 18 of Set 9 | mangan\n",
      "Processing Record 19 of Set 9 | kalemie\n",
      "Processing Record 20 of Set 9 | namibe\n",
      "Processing Record 21 of Set 9 | ryotsu\n",
      "Processing Record 22 of Set 9 | cheuskiny\n",
      "City not found. Skipping...\n",
      "Processing Record 23 of Set 9 | zurrieq\n",
      "Processing Record 24 of Set 9 | mitsamiouli\n",
      "Processing Record 25 of Set 9 | sevilla\n",
      "Processing Record 26 of Set 9 | poum\n",
      "Processing Record 27 of Set 9 | qena\n",
      "Processing Record 28 of Set 9 | coihaique\n",
      "Processing Record 29 of Set 9 | abu samrah\n",
      "Processing Record 30 of Set 9 | urusha\n",
      "Processing Record 31 of Set 9 | manzhouli\n",
      "Processing Record 32 of Set 9 | bam\n",
      "Processing Record 33 of Set 9 | ust-nera\n",
      "Processing Record 34 of Set 9 | elko\n",
      "Processing Record 35 of Set 9 | wewak\n",
      "Processing Record 36 of Set 9 | chimore\n",
      "Processing Record 37 of Set 9 | kidal\n",
      "Processing Record 38 of Set 9 | kosa\n",
      "Processing Record 39 of Set 9 | inirida\n",
      "Processing Record 40 of Set 9 | alofi\n",
      "Processing Record 41 of Set 9 | phan thiet\n",
      "Processing Record 42 of Set 9 | yichang\n",
      "Processing Record 43 of Set 9 | ituni\n",
      "City not found. Skipping...\n",
      "Processing Record 44 of Set 9 | tancuayalab\n",
      "City not found. Skipping...\n",
      "Processing Record 45 of Set 9 | haines junction\n",
      "Processing Record 46 of Set 9 | nova russas\n",
      "Processing Record 47 of Set 9 | pacific grove\n",
      "Processing Record 48 of Set 9 | buala\n",
      "Processing Record 49 of Set 9 | tarakan\n",
      "Processing Record 50 of Set 9 | fevralsk\n",
      "City not found. Skipping...\n",
      "Processing Record 1 of Set 10 | ilulissat\n",
      "Processing Record 2 of Set 10 | uribia\n",
      "Processing Record 3 of Set 10 | baraboo\n",
      "Processing Record 4 of Set 10 | marzuq\n",
      "Processing Record 5 of Set 10 | nuevo ideal\n",
      "Processing Record 6 of Set 10 | perth\n",
      "Processing Record 7 of Set 10 | tuatapere\n",
      "Processing Record 8 of Set 10 | the pas\n",
      "Processing Record 9 of Set 10 | iqaluit\n",
      "Processing Record 10 of Set 10 | riyadh\n",
      "Processing Record 11 of Set 10 | clyde river\n",
      "Processing Record 12 of Set 10 | nouakchott\n",
      "Processing Record 13 of Set 10 | namatanai\n",
      "Processing Record 14 of Set 10 | wajima\n",
      "Processing Record 15 of Set 10 | umzimvubu\n",
      "City not found. Skipping...\n",
      "Processing Record 16 of Set 10 | tselinnoye\n",
      "Processing Record 17 of Set 10 | chabahar\n",
      "Processing Record 18 of Set 10 | varhaug\n",
      "Processing Record 19 of Set 10 | aranos\n",
      "Processing Record 20 of Set 10 | bonthe\n",
      "Processing Record 21 of Set 10 | spearfish\n",
      "Processing Record 22 of Set 10 | ahipara\n",
      "Processing Record 23 of Set 10 | khonuu\n",
      "City not found. Skipping...\n",
      "Processing Record 24 of Set 10 | nhulunbuy\n",
      "Processing Record 25 of Set 10 | jasper\n",
      "Processing Record 26 of Set 10 | rio gallegos\n",
      "Processing Record 27 of Set 10 | batemans bay\n",
      "Processing Record 28 of Set 10 | turukhansk\n",
      "Processing Record 29 of Set 10 | tiko\n",
      "Processing Record 30 of Set 10 | taungdwingyi\n",
      "Processing Record 31 of Set 10 | alpena\n",
      "Processing Record 32 of Set 10 | sisophon\n",
      "Processing Record 33 of Set 10 | maghama\n",
      "City not found. Skipping...\n",
      "Processing Record 34 of Set 10 | ous\n",
      "Processing Record 35 of Set 10 | mana\n",
      "Processing Record 36 of Set 10 | saint-gaudens\n",
      "Processing Record 37 of Set 10 | fort nelson\n",
      "Processing Record 38 of Set 10 | isangel\n",
      "Processing Record 39 of Set 10 | epe\n",
      "Processing Record 40 of Set 10 | kaitong\n",
      "Processing Record 41 of Set 10 | stornoway\n",
      "Processing Record 42 of Set 10 | manzanillo\n",
      "Processing Record 43 of Set 10 | bolungarvik\n",
      "City not found. Skipping...\n",
      "Processing Record 44 of Set 10 | inuvik\n",
      "Processing Record 45 of Set 10 | chicama\n",
      "Processing Record 46 of Set 10 | orocue\n",
      "Processing Record 47 of Set 10 | pathalgaon\n",
      "Processing Record 48 of Set 10 | mazatlan\n",
      "Processing Record 49 of Set 10 | san policarpo\n",
      "Processing Record 50 of Set 10 | guatire\n",
      "Processing Record 1 of Set 11 | nushki\n",
      "Processing Record 2 of Set 11 | dunedin\n",
      "Processing Record 3 of Set 11 | la primavera\n",
      "Processing Record 4 of Set 11 | san isidro\n",
      "Processing Record 5 of Set 11 | esmeralda\n",
      "Processing Record 6 of Set 11 | sorrento\n",
      "Processing Record 7 of Set 11 | waingapu\n",
      "Processing Record 8 of Set 11 | sydney mines\n",
      "Processing Record 9 of Set 11 | bangangte\n",
      "Processing Record 10 of Set 11 | strezhevoy\n",
      "Processing Record 11 of Set 11 | hakkari\n",
      "Processing Record 12 of Set 11 | nuuk\n",
      "Processing Record 13 of Set 11 | mingaora\n",
      "Processing Record 14 of Set 11 | kavaratti\n",
      "Processing Record 15 of Set 11 | soyo\n",
      "Processing Record 16 of Set 11 | chippewa falls\n",
      "Processing Record 17 of Set 11 | vagur\n",
      "Processing Record 18 of Set 11 | papara\n",
      "Processing Record 19 of Set 11 | serebryansk\n",
      "Processing Record 20 of Set 11 | borogontsy\n",
      "Processing Record 21 of Set 11 | zhanaozen\n",
      "Processing Record 22 of Set 11 | baykit\n",
      "Processing Record 23 of Set 11 | tongliao\n",
      "Processing Record 24 of Set 11 | san rafael\n",
      "Processing Record 25 of Set 11 | port hardy\n",
      "Processing Record 26 of Set 11 | mangai\n",
      "Processing Record 27 of Set 11 | ongandjera\n",
      "Processing Record 28 of Set 11 | santa isabel do rio negro\n",
      "Processing Record 29 of Set 11 | koutsouras\n",
      "Processing Record 30 of Set 11 | tazovskiy\n",
      "Processing Record 31 of Set 11 | komsomolskiy\n",
      "Processing Record 32 of Set 11 | dahra\n",
      "Processing Record 33 of Set 11 | diamantino\n",
      "Processing Record 34 of Set 11 | pasni\n",
      "Processing Record 35 of Set 11 | maragogi\n",
      "Processing Record 36 of Set 11 | basco\n",
      "Processing Record 37 of Set 11 | kiunga\n",
      "Processing Record 38 of Set 11 | nagato\n",
      "Processing Record 39 of Set 11 | saldanha\n",
      "Processing Record 40 of Set 11 | bilma\n",
      "Processing Record 41 of Set 11 | safford\n",
      "Processing Record 42 of Set 11 | oksovskiy\n",
      "Processing Record 43 of Set 11 | dawei\n",
      "Processing Record 44 of Set 11 | pangnirtung\n",
      "Processing Record 45 of Set 11 | seymchan\n",
      "Processing Record 46 of Set 11 | saraipali\n",
      "Processing Record 47 of Set 11 | nelson bay\n",
      "Processing Record 48 of Set 11 | port blair\n",
      "Processing Record 49 of Set 11 | show low\n",
      "Processing Record 50 of Set 11 | sicamous\n",
      "Processing Record 1 of Set 12 | kasempa\n",
      "Processing Record 2 of Set 12 | grand-lahou\n",
      "Processing Record 3 of Set 12 | dubbo\n",
      "Processing Record 4 of Set 12 | sungaipenuh\n",
      "Processing Record 5 of Set 12 | numan\n",
      "Processing Record 6 of Set 12 | sumenep\n",
      "Processing Record 7 of Set 12 | chancay\n",
      "Processing Record 8 of Set 12 | dong hoi\n"
     ]
    },
    {
     "name": "stdout",
     "output_type": "stream",
     "text": [
      "Processing Record 9 of Set 12 | hirara\n",
      "Processing Record 10 of Set 12 | oneonta\n",
      "Processing Record 11 of Set 12 | sao miguel do araguaia\n",
      "Processing Record 12 of Set 12 | sakakah\n",
      "Processing Record 13 of Set 12 | uusikaupunki\n",
      "Processing Record 14 of Set 12 | oga\n",
      "Processing Record 15 of Set 12 | komsomolets\n",
      "Processing Record 16 of Set 12 | atar\n",
      "Processing Record 17 of Set 12 | araouane\n",
      "Processing Record 18 of Set 12 | alice springs\n",
      "Processing Record 19 of Set 12 | nurota\n",
      "Processing Record 20 of Set 12 | semporna\n",
      "Processing Record 21 of Set 12 | nandu\n",
      "Processing Record 22 of Set 12 | bacolod\n",
      "Processing Record 23 of Set 12 | agfalva\n",
      "Processing Record 24 of Set 12 | qasigiannguit\n",
      "Processing Record 25 of Set 12 | beidao\n",
      "Processing Record 26 of Set 12 | roebourne\n",
      "Processing Record 27 of Set 12 | ila\n",
      "Processing Record 28 of Set 12 | el tigre\n",
      "Processing Record 29 of Set 12 | udachnyy\n",
      "Processing Record 30 of Set 12 | labuhan\n",
      "Processing Record 31 of Set 12 | monrovia\n",
      "Processing Record 32 of Set 12 | salaga\n",
      "Processing Record 33 of Set 12 | ikalamavony\n",
      "Processing Record 34 of Set 12 | wegorzewo\n",
      "Processing Record 35 of Set 12 | jaffna\n",
      "Processing Record 36 of Set 12 | det udom\n",
      "Processing Record 37 of Set 12 | mahadday weyne\n",
      "City not found. Skipping...\n",
      "Processing Record 38 of Set 12 | takoradi\n",
      "Processing Record 39 of Set 12 | sahuaripa\n",
      "Processing Record 40 of Set 12 | barbar\n",
      "City not found. Skipping...\n",
      "Processing Record 41 of Set 12 | el reno\n",
      "Processing Record 42 of Set 12 | san carlos de bariloche\n",
      "Processing Record 43 of Set 12 | sataua\n",
      "City not found. Skipping...\n",
      "Processing Record 44 of Set 12 | ouricuri\n",
      "Processing Record 45 of Set 12 | abha\n",
      "Processing Record 46 of Set 12 | anloga\n",
      "Processing Record 47 of Set 12 | ketchikan\n",
      "Processing Record 48 of Set 12 | saint george\n",
      "Processing Record 49 of Set 12 | ambodifototra\n",
      "City not found. Skipping...\n",
      "Processing Record 50 of Set 12 | lakhimpur\n",
      "Processing Record 1 of Set 13 | ngunguru\n",
      "Processing Record 2 of Set 13 | kanye\n",
      "Processing Record 3 of Set 13 | kaniama\n",
      "Processing Record 4 of Set 13 | bin qirdan\n",
      "Processing Record 5 of Set 13 | panaba\n",
      "Processing Record 6 of Set 13 | arraias\n",
      "Processing Record 7 of Set 13 | nyzhni sirohozy\n",
      "Processing Record 8 of Set 13 | bilibino\n",
      "Processing Record 9 of Set 13 | broome\n",
      "Processing Record 10 of Set 13 | taltal\n",
      "Processing Record 11 of Set 13 | imbituba\n",
      "Processing Record 12 of Set 13 | alyangula\n",
      "Processing Record 13 of Set 13 | oranjestad\n",
      "Processing Record 14 of Set 13 | taquari\n",
      "Processing Record 15 of Set 13 | hutchinson\n",
      "Processing Record 16 of Set 13 | auki\n",
      "Processing Record 17 of Set 13 | jiwani\n",
      "Processing Record 18 of Set 13 | la rioja\n",
      "Processing Record 19 of Set 13 | yerbogachen\n",
      "Processing Record 20 of Set 13 | rock sound\n",
      "Processing Record 21 of Set 13 | mtwara\n",
      "Processing Record 22 of Set 13 | sanandaj\n",
      "Processing Record 23 of Set 13 | dingle\n",
      "Processing Record 24 of Set 13 | culaman\n",
      "Processing Record 25 of Set 13 | puerto madero\n",
      "Processing Record 26 of Set 13 | blackwater\n",
      "Processing Record 27 of Set 13 | middle island\n",
      "Processing Record 28 of Set 13 | shubarkuduk\n",
      "Processing Record 29 of Set 13 | hermiston\n",
      "Processing Record 30 of Set 13 | camana\n",
      "Processing Record 31 of Set 13 | linqiong\n",
      "Processing Record 32 of Set 13 | samusu\n",
      "City not found. Skipping...\n",
      "Processing Record 33 of Set 13 | bundaberg\n",
      "Processing Record 34 of Set 13 | ust-karsk\n",
      "Processing Record 35 of Set 13 | sorvag\n",
      "City not found. Skipping...\n",
      "Processing Record 36 of Set 13 | topeka\n",
      "Processing Record 37 of Set 13 | college\n",
      "Processing Record 38 of Set 13 | mlowo\n",
      "Processing Record 39 of Set 13 | malartic\n",
      "Processing Record 40 of Set 13 | muroto\n",
      "Processing Record 41 of Set 13 | dukat\n",
      "Processing Record 42 of Set 13 | urdzhar\n",
      "City not found. Skipping...\n",
      "Processing Record 43 of Set 13 | niquero\n",
      "Processing Record 44 of Set 13 | lorengau\n",
      "Processing Record 45 of Set 13 | newport\n",
      "Processing Record 46 of Set 13 | vila franca do campo\n",
      "Processing Record 47 of Set 13 | dimona\n",
      "Processing Record 48 of Set 13 | jacareacanga\n",
      "Processing Record 49 of Set 13 | chapais\n",
      "Processing Record 50 of Set 13 | rio grande\n",
      "Processing Record 1 of Set 14 | kitsuki\n",
      "Processing Record 2 of Set 14 | zarubino\n",
      "Processing Record 3 of Set 14 | pokhara\n",
      "Processing Record 4 of Set 14 | wangaratta\n",
      "Processing Record 5 of Set 14 | kolding\n",
      "Processing Record 6 of Set 14 | guarapari\n",
      "Processing Record 7 of Set 14 | rungata\n",
      "City not found. Skipping...\n",
      "Processing Record 8 of Set 14 | horuphav\n",
      "Processing Record 9 of Set 14 | lucea\n",
      "Processing Record 10 of Set 14 | vanavara\n",
      "Processing Record 11 of Set 14 | itirucu\n",
      "Processing Record 12 of Set 14 | tateyama\n",
      "Processing Record 13 of Set 14 | waitati\n",
      "Processing Record 14 of Set 14 | la mira\n",
      "Processing Record 15 of Set 14 | banda aceh\n",
      "Processing Record 16 of Set 14 | suzun\n",
      "Processing Record 17 of Set 14 | opobo\n",
      "City not found. Skipping...\n",
      "Processing Record 18 of Set 14 | chitral\n",
      "Processing Record 19 of Set 14 | mafinga\n",
      "Processing Record 20 of Set 14 | macaiba\n",
      "Processing Record 21 of Set 14 | tadine\n",
      "Processing Record 22 of Set 14 | constitucion\n",
      "Processing Record 23 of Set 14 | bodden town\n",
      "Processing Record 24 of Set 14 | venado tuerto\n",
      "Processing Record 25 of Set 14 | taganak\n",
      "Processing Record 26 of Set 14 | bara\n",
      "Processing Record 27 of Set 14 | zhitikara\n",
      "City not found. Skipping...\n",
      "Processing Record 28 of Set 14 | ulaanbaatar\n",
      "Processing Record 29 of Set 14 | loreto\n",
      "Processing Record 30 of Set 14 | gat\n",
      "Processing Record 31 of Set 14 | nenjiang\n",
      "Processing Record 32 of Set 14 | saint-pierre\n",
      "Processing Record 33 of Set 14 | valleyview\n",
      "Processing Record 34 of Set 14 | olga\n",
      "Processing Record 35 of Set 14 | homer\n",
      "Processing Record 36 of Set 14 | loubomo\n",
      "Processing Record 37 of Set 14 | leshukonskoye\n",
      "Processing Record 38 of Set 14 | karakendzha\n",
      "City not found. Skipping...\n",
      "Processing Record 39 of Set 14 | pocone\n",
      "Processing Record 40 of Set 14 | prieska\n",
      "Processing Record 41 of Set 14 | erzin\n",
      "Processing Record 42 of Set 14 | miri\n",
      "Processing Record 43 of Set 14 | bryan\n",
      "Processing Record 44 of Set 14 | oranjemund\n",
      "Processing Record 45 of Set 14 | petropavlovsk-kamchatskiy\n",
      "Processing Record 46 of Set 14 | inhambane\n",
      "Processing Record 47 of Set 14 | tokur\n",
      "Processing Record 48 of Set 14 | aguada de pasajeros\n",
      "Processing Record 49 of Set 14 | umm kaddadah\n",
      "Processing Record 50 of Set 14 | porto empedocle\n",
      "Processing Record 1 of Set 15 | carson city\n",
      "Processing Record 2 of Set 15 | koratla\n",
      "Processing Record 3 of Set 15 | marmande\n",
      "Processing Record 4 of Set 15 | vila do maio\n",
      "Processing Record 5 of Set 15 | zharkovskiy\n",
      "Processing Record 6 of Set 15 | caraballeda\n",
      "Processing Record 7 of Set 15 | northam\n",
      "Processing Record 8 of Set 15 | aojiang\n",
      "Processing Record 9 of Set 15 | mrirt\n",
      "City not found. Skipping...\n",
      "Processing Record 10 of Set 15 | morondava\n",
      "Processing Record 11 of Set 15 | cam pha\n",
      "City not found. Skipping...\n",
      "Processing Record 12 of Set 15 | imbituva\n",
      "Processing Record 13 of Set 15 | lokoja\n",
      "Processing Record 14 of Set 15 | toungoo\n",
      "City not found. Skipping...\n",
      "Processing Record 15 of Set 15 | sao jose da coroa grande\n",
      "Processing Record 16 of Set 15 | vanimo\n",
      "Processing Record 17 of Set 15 | kot samaba\n",
      "Processing Record 18 of Set 15 | marovoay\n",
      "Processing Record 19 of Set 15 | mabaruma\n",
      "Processing Record 20 of Set 15 | maneadero\n",
      "Processing Record 21 of Set 15 | longjiang\n",
      "Processing Record 22 of Set 15 | springbok\n",
      "Processing Record 23 of Set 15 | kampene\n",
      "Processing Record 24 of Set 15 | vangaindrano\n",
      "Processing Record 25 of Set 15 | kazanskaya\n",
      "Processing Record 26 of Set 15 | pangkalanbuun\n",
      "Processing Record 27 of Set 15 | lanxi\n",
      "Processing Record 28 of Set 15 | betsiamites\n",
      "Processing Record 29 of Set 15 | koslan\n",
      "-----------------------------\n",
      "Data Retrieval Complete      \n",
      "-----------------------------\n"
     ]
    }
   ],
   "source": [
    "# Print the beginning of the logging.\n",
    "print(\"Beginning Data Retrieval     \")\n",
    "print(\"-----------------------------\")\n",
    "\n",
    "# Create counters.\n",
    "record_count = 1\n",
    "set_count = 1\n",
    "\n",
    "# Loop through all the cities in the list.\n",
    "for i, city in enumerate(cities):\n",
    "\n",
    "    # Group cities in sets of 50 for logging purposes.\n",
    "    # If making more calls without stopping will exceed \n",
    "    if (i % 50 == 0 and i >= 50):\n",
    "        set_count += 1\n",
    "        record_count = 1\n",
    "        time.sleep(60)\n",
    "\n",
    "    # Create endpoint URL with each city.\n",
    "    city_url = url + \"&q=\" + city.replace(\" \",\"+\") \n",
    "    # Removing the blank spaces in the city name and concatenating the city name with, city.replace(\" \",\"+\"). \n",
    "    # This will find the corresponding weather data for the city instead of finding the weather data \n",
    "    # for the first part of the city name.\n",
    "\n",
    "    # Log the URL, record, and set numbers and the city.\n",
    "    print(f\"Processing Record {record_count} of Set {set_count} | {city}\")\n",
    "    # Add 1 to the record count.\n",
    "    record_count += 1\n",
    "    \n",
    "# Run an API request for each of the cities.\n",
    "    try:\n",
    "        # Parse the JSON and retrieve data.\n",
    "        city_weather = requests.get(city_url).json()\n",
    "        # Parse out the needed data.\n",
    "        city_lat = city_weather[\"coord\"][\"lat\"]\n",
    "        city_lng = city_weather[\"coord\"][\"lon\"]\n",
    "        city_max_temp = city_weather[\"main\"][\"temp_max\"]\n",
    "        city_humidity = city_weather[\"main\"][\"humidity\"]\n",
    "        city_clouds = city_weather[\"clouds\"][\"all\"]\n",
    "        city_wind = city_weather[\"wind\"][\"speed\"]\n",
    "        city_country = city_weather[\"sys\"][\"country\"]\n",
    "        \n",
    "        # Convert the date to ISO standard.\n",
    "        city_date = datetime.utcfromtimestamp(city_weather[\"dt\"]).strftime('%Y-%m-%d %H:%M:%S')\n",
    "        \n",
    "        # Append the city information into city_data list.\n",
    "        city_data.append({\"City\": city.title(),\n",
    "                          \"Lat\": city_lat,\n",
    "                          \"Lng\": city_lng,\n",
    "                          \"Max Temp\": city_max_temp,\n",
    "                          \"Humidity\": city_humidity,\n",
    "                          \"Cloudiness\": city_clouds,\n",
    "                          \"Wind Speed\": city_wind,\n",
    "                          \"Country\": city_country,\n",
    "                          \"Date\": city_date})\n",
    "\n",
    "# If an error is experienced, skip the city.\n",
    "    except:\n",
    "        print(\"City not found. Skipping...\")\n",
    "        #pass # general purpose statement to handle all errors encountered\n",
    "\n",
    "# Indicate that Data Loading is complete.\n",
    "print(\"-----------------------------\")\n",
    "print(\"Data Retrieval Complete      \")\n",
    "print(\"-----------------------------\")"
   ]
  },
  {
   "cell_type": "markdown",
   "id": "af3170d0",
   "metadata": {},
   "source": [
    "Let's break down the code so we understand fully before continuing:\n",
    "\n",
    "- We create the for loop with the enumerate() method and reference the index and the city in the list.\n",
    "- In the conditional statement, we check if the remainder of the index divided by 50 is equal to 0 and if the index is greater than or equal to 50. If the statement is true, then the set_count and the record_count are incremented by 1.\n",
    "- Inside the conditional statement, we create the URL endpoint for each city, as before. However, we are removing the blank spaces in the city name and concatenating the city name with, city.replace(\" \",\"+\"). This will find the corresponding weather data for the city instead of finding the weather data for the first part of the city name.\n",
    "- Also, we add a print statement that tells us the record count and set count, and the city that is being processed.\n",
    "- Then we add one to the record count before the next city is processed.\n",
    "- Next, we will retrieve the data from the JSON weather response for each city."
   ]
  },
  {
   "cell_type": "markdown",
   "id": "aea3e212",
   "metadata": {},
   "source": [
    "Generally, it isn't good coding practice to add the pass statement to the except block. Ideally, we want to handle or catch each error as it happens and do something specific (e.g., add another try block or print out the error)."
   ]
  },
  {
   "cell_type": "markdown",
   "id": "063ecad3",
   "metadata": {},
   "source": [
    "Documentation on errors and exceptions (https://docs.python.org/3.7/tutorial/errors.html)"
   ]
  },
  {
   "cell_type": "code",
   "execution_count": 89,
   "id": "67acf896",
   "metadata": {},
   "outputs": [
    {
     "data": {
      "text/html": [
       "<div>\n",
       "<style scoped>\n",
       "    .dataframe tbody tr th:only-of-type {\n",
       "        vertical-align: middle;\n",
       "    }\n",
       "\n",
       "    .dataframe tbody tr th {\n",
       "        vertical-align: top;\n",
       "    }\n",
       "\n",
       "    .dataframe thead th {\n",
       "        text-align: right;\n",
       "    }\n",
       "</style>\n",
       "<table border=\"1\" class=\"dataframe\">\n",
       "  <thead>\n",
       "    <tr style=\"text-align: right;\">\n",
       "      <th></th>\n",
       "      <th>City</th>\n",
       "      <th>Lat</th>\n",
       "      <th>Lng</th>\n",
       "      <th>Max Temp</th>\n",
       "      <th>Humidity</th>\n",
       "      <th>Cloudiness</th>\n",
       "      <th>Wind Speed</th>\n",
       "      <th>Country</th>\n",
       "      <th>Date</th>\n",
       "    </tr>\n",
       "  </thead>\n",
       "  <tbody>\n",
       "    <tr>\n",
       "      <th>0</th>\n",
       "      <td>Axim</td>\n",
       "      <td>4.8699</td>\n",
       "      <td>-2.2405</td>\n",
       "      <td>82.81</td>\n",
       "      <td>73</td>\n",
       "      <td>97</td>\n",
       "      <td>10.67</td>\n",
       "      <td>GH</td>\n",
       "      <td>2022-02-19 17:21:46</td>\n",
       "    </tr>\n",
       "    <tr>\n",
       "      <th>1</th>\n",
       "      <td>Gwadar</td>\n",
       "      <td>25.1216</td>\n",
       "      <td>62.3254</td>\n",
       "      <td>72.66</td>\n",
       "      <td>62</td>\n",
       "      <td>0</td>\n",
       "      <td>8.34</td>\n",
       "      <td>PK</td>\n",
       "      <td>2022-02-19 17:21:47</td>\n",
       "    </tr>\n",
       "    <tr>\n",
       "      <th>2</th>\n",
       "      <td>Assiniboia</td>\n",
       "      <td>49.6334</td>\n",
       "      <td>-105.9845</td>\n",
       "      <td>33.62</td>\n",
       "      <td>64</td>\n",
       "      <td>70</td>\n",
       "      <td>19.57</td>\n",
       "      <td>CA</td>\n",
       "      <td>2022-02-19 17:21:47</td>\n",
       "    </tr>\n",
       "    <tr>\n",
       "      <th>3</th>\n",
       "      <td>Punta Arenas</td>\n",
       "      <td>-53.1500</td>\n",
       "      <td>-70.9167</td>\n",
       "      <td>46.42</td>\n",
       "      <td>78</td>\n",
       "      <td>100</td>\n",
       "      <td>14.97</td>\n",
       "      <td>CL</td>\n",
       "      <td>2022-02-19 17:16:57</td>\n",
       "    </tr>\n",
       "    <tr>\n",
       "      <th>4</th>\n",
       "      <td>Hermanus</td>\n",
       "      <td>-34.4187</td>\n",
       "      <td>19.2345</td>\n",
       "      <td>70.90</td>\n",
       "      <td>82</td>\n",
       "      <td>30</td>\n",
       "      <td>9.48</td>\n",
       "      <td>ZA</td>\n",
       "      <td>2022-02-19 17:21:47</td>\n",
       "    </tr>\n",
       "    <tr>\n",
       "      <th>5</th>\n",
       "      <td>Rikitea</td>\n",
       "      <td>-23.1203</td>\n",
       "      <td>-134.9692</td>\n",
       "      <td>78.04</td>\n",
       "      <td>70</td>\n",
       "      <td>13</td>\n",
       "      <td>9.13</td>\n",
       "      <td>PF</td>\n",
       "      <td>2022-02-19 17:21:47</td>\n",
       "    </tr>\n",
       "    <tr>\n",
       "      <th>6</th>\n",
       "      <td>Zachepylivka</td>\n",
       "      <td>49.1939</td>\n",
       "      <td>35.2394</td>\n",
       "      <td>39.33</td>\n",
       "      <td>90</td>\n",
       "      <td>100</td>\n",
       "      <td>19.33</td>\n",
       "      <td>UA</td>\n",
       "      <td>2022-02-19 17:21:48</td>\n",
       "    </tr>\n",
       "    <tr>\n",
       "      <th>7</th>\n",
       "      <td>Cabo San Lucas</td>\n",
       "      <td>22.8909</td>\n",
       "      <td>-109.9124</td>\n",
       "      <td>74.61</td>\n",
       "      <td>63</td>\n",
       "      <td>40</td>\n",
       "      <td>5.01</td>\n",
       "      <td>MX</td>\n",
       "      <td>2022-02-19 17:20:13</td>\n",
       "    </tr>\n",
       "    <tr>\n",
       "      <th>8</th>\n",
       "      <td>Kirkland Lake</td>\n",
       "      <td>48.1446</td>\n",
       "      <td>-80.0377</td>\n",
       "      <td>3.49</td>\n",
       "      <td>60</td>\n",
       "      <td>100</td>\n",
       "      <td>14.58</td>\n",
       "      <td>CA</td>\n",
       "      <td>2022-02-19 17:21:48</td>\n",
       "    </tr>\n",
       "    <tr>\n",
       "      <th>9</th>\n",
       "      <td>Kerewan</td>\n",
       "      <td>13.4898</td>\n",
       "      <td>-16.0888</td>\n",
       "      <td>87.91</td>\n",
       "      <td>9</td>\n",
       "      <td>14</td>\n",
       "      <td>5.93</td>\n",
       "      <td>GM</td>\n",
       "      <td>2022-02-19 17:21:48</td>\n",
       "    </tr>\n",
       "  </tbody>\n",
       "</table>\n",
       "</div>"
      ],
      "text/plain": [
       "             City      Lat       Lng  Max Temp  Humidity  Cloudiness  \\\n",
       "0            Axim   4.8699   -2.2405     82.81        73          97   \n",
       "1          Gwadar  25.1216   62.3254     72.66        62           0   \n",
       "2      Assiniboia  49.6334 -105.9845     33.62        64          70   \n",
       "3    Punta Arenas -53.1500  -70.9167     46.42        78         100   \n",
       "4        Hermanus -34.4187   19.2345     70.90        82          30   \n",
       "5         Rikitea -23.1203 -134.9692     78.04        70          13   \n",
       "6    Zachepylivka  49.1939   35.2394     39.33        90         100   \n",
       "7  Cabo San Lucas  22.8909 -109.9124     74.61        63          40   \n",
       "8   Kirkland Lake  48.1446  -80.0377      3.49        60         100   \n",
       "9         Kerewan  13.4898  -16.0888     87.91         9          14   \n",
       "\n",
       "   Wind Speed Country                 Date  \n",
       "0       10.67      GH  2022-02-19 17:21:46  \n",
       "1        8.34      PK  2022-02-19 17:21:47  \n",
       "2       19.57      CA  2022-02-19 17:21:47  \n",
       "3       14.97      CL  2022-02-19 17:16:57  \n",
       "4        9.48      ZA  2022-02-19 17:21:47  \n",
       "5        9.13      PF  2022-02-19 17:21:47  \n",
       "6       19.33      UA  2022-02-19 17:21:48  \n",
       "7        5.01      MX  2022-02-19 17:20:13  \n",
       "8       14.58      CA  2022-02-19 17:21:48  \n",
       "9        5.93      GM  2022-02-19 17:21:48  "
      ]
     },
     "execution_count": 89,
     "metadata": {},
     "output_type": "execute_result"
    }
   ],
   "source": [
    "# Convert the array of dictionaries to a Pandas DataFrame.\n",
    "city_data_df = pd.DataFrame(city_data)\n",
    "city_data_df.head(10)"
   ]
  },
  {
   "cell_type": "code",
   "execution_count": 90,
   "id": "6c683865",
   "metadata": {},
   "outputs": [],
   "source": [
    "new_column_order = [\"City\", \"Country\", \"Date\", \"Lat\", \"Lng\", \"Max Temp\", \"Humidity\", \"Cloudiness\", \"Wind Speed\"]\n",
    "city_data_df = city_data_df[new_column_order]"
   ]
  },
  {
   "cell_type": "code",
   "execution_count": 91,
   "id": "c484310b",
   "metadata": {},
   "outputs": [],
   "source": [
    "# Create the output file (CSV).\n",
    "output_data_file = \"weather_data/cities.csv\"\n",
    "# Export the City_Data into a CSV.\n",
    "city_data_df.to_csv(output_data_file, index_label=\"City_ID\")"
   ]
  },
  {
   "cell_type": "markdown",
   "id": "baea3226",
   "metadata": {},
   "source": [
    "# Regression Analysis on All Data\n",
    "Scatter plots for each weather parameter against the latitude for all cities"
   ]
  },
  {
   "cell_type": "markdown",
   "id": "6810eb4e",
   "metadata": {},
   "source": [
    "## City Latitude vs. Maximum Temperature"
   ]
  },
  {
   "cell_type": "code",
   "execution_count": 200,
   "id": "63e56b26",
   "metadata": {},
   "outputs": [],
   "source": [
    "# Extract relevant fields from the DataFrame for plotting.\n",
    "lats = city_data_df[\"Lat\"]\n",
    "max_temps = city_data_df[\"Max Temp\"]\n",
    "humidity = city_data_df[\"Humidity\"]\n",
    "cloudiness = city_data_df[\"Cloudiness\"]\n",
    "wind_speed = city_data_df[\"Wind Speed\"]"
   ]
  },
  {
   "cell_type": "code",
   "execution_count": 203,
   "id": "7b3da275",
   "metadata": {
    "scrolled": true
   },
   "outputs": [
    {
     "data": {
      "image/png": "[encoded data removed]",
      "text/plain": [
       "<Figure size 432x288 with 1 Axes>"
      ]
     },
     "metadata": {
      "needs_background": "light"
     },
     "output_type": "display_data"
    }
   ],
   "source": [
    "# Import time module\n",
    "import time\n",
    "\n",
    "# Build the scatter plot for latitude vs. max temperature.\n",
    "plt.scatter(lats,\n",
    "            max_temps, color=\"skyblue\",\n",
    "            edgecolor=\"black\", linewidths=1, marker=\"o\",\n",
    "            alpha=0.8, label=\"Cities\")\n",
    "\n",
    "# Incorporate the other graph properties.\n",
    "plt.title(f\"City Latitude vs. Max Temperature \"+ time.strftime(\"%x\"))\n",
    "plt.ylabel(\"Max Temperature (F)\")\n",
    "plt.xlabel(\"Latitude\")\n",
    "plt.grid(True)\n",
    "\n",
    "# Save the figure.\n",
    "plt.savefig(\"weather_data/Latitude vs Max Temp.png\")\n",
    "\n",
    "# Show plot.\n",
    "plt.show()"
   ]
  },
  {
   "cell_type": "markdown",
   "id": "67e51dbb",
   "metadata": {},
   "source": [
    "## City Latitude vs. Humidity"
   ]
  },
  {
   "cell_type": "code",
   "execution_count": 205,
   "id": "ed49e65c",
   "metadata": {
    "scrolled": true
   },
   "outputs": [
    {
     "data": {
      "image/png": "[encoded data removed]",
      "text/plain": [
       "<Figure size 432x288 with 1 Axes>"
      ]
     },
     "metadata": {
      "needs_background": "light"
     },
     "output_type": "display_data"
    }
   ],
   "source": [
    "# Build the scatter plots for latitude vs. humidity.\n",
    "plt.scatter(lats,\n",
    "            humidity,color=\"skyblue\", \n",
    "            edgecolor=\"black\", linewidths=1, marker=\"o\",\n",
    "            alpha=0.8, label=\"Cities\")\n",
    "\n",
    "# Incorporate the other graph properties.\n",
    "plt.title(f\"City Latitude vs. Humidity \"+ time.strftime(\"%x\"))\n",
    "plt.ylabel(\"Humidity (%)\")\n",
    "plt.xlabel(\"Latitude\")\n",
    "plt.grid(True)\n",
    "# Save the figure.\n",
    "plt.savefig(\"weather_data/Latitude vs. Humidity.png\")\n",
    "# Show plot.\n",
    "plt.show()"
   ]
  },
  {
   "cell_type": "markdown",
   "id": "2d7491ae",
   "metadata": {},
   "source": [
    "## City Latitude vs. Cloudiness"
   ]
  },
  {
   "cell_type": "code",
   "execution_count": 206,
   "id": "57e70375",
   "metadata": {
    "scrolled": true
   },
   "outputs": [
    {
     "data": {
      "image/png": "[encoded data removed]",
      "text/plain": [
       "<Figure size 432x288 with 1 Axes>"
      ]
     },
     "metadata": {
      "needs_background": "light"
     },
     "output_type": "display_data"
    }
   ],
   "source": [
    "# Build the scatter plots for latitude vs. cloudiness.\n",
    "plt.scatter(lats,\n",
    "            cloudiness,color=\"skyblue\", \n",
    "            edgecolor=\"black\", linewidths=1, marker=\"o\",\n",
    "            alpha=0.8, label=\"Cities\")\n",
    "\n",
    "# Incorporate the other graph properties.\n",
    "plt.title(f\"City Latitude vs. Cloudiness (%) \"+ time.strftime(\"%x\"))\n",
    "plt.ylabel(\"Cloudiness (%)\")\n",
    "plt.xlabel(\"Latitude\")\n",
    "plt.grid(True)\n",
    "# Save the figure.\n",
    "plt.savefig(\"weather_data/Latitude vs. Cloudiness.png\")\n",
    "# Show plot.\n",
    "plt.show()"
   ]
  },
  {
   "cell_type": "markdown",
   "id": "619280c2",
   "metadata": {},
   "source": [
    "## City Latitude vs. Wind Speed"
   ]
  },
  {
   "cell_type": "code",
   "execution_count": 208,
   "id": "35b19a49",
   "metadata": {},
   "outputs": [
    {
     "data": {
      "image/png": "[encoded data removed]",
      "text/plain": [
       "<Figure size 432x288 with 1 Axes>"
      ]
     },
     "metadata": {
      "needs_background": "light"
     },
     "output_type": "display_data"
    }
   ],
   "source": [
    "# Build the scatter plots for latitude vs. wind speed.\n",
    "plt.scatter(lats,\n",
    "            wind_speed, color=\"skyblue\",\n",
    "            edgecolor=\"black\", linewidths=1, marker=\"o\",\n",
    "            alpha=0.8, label=\"Cities\")\n",
    "\n",
    "# Incorporate the other graph properties.\n",
    "plt.title(f\"City Latitude vs. Wind Speed \"+ time.strftime(\"%x\"))\n",
    "plt.ylabel(\"Wind Speed (mph)\")\n",
    "plt.xlabel(\"Latitude\")\n",
    "plt.grid(True)\n",
    "# Save the figure.\n",
    "plt.savefig(\"weather_data/Latitude vs. Wind Speed.png\")\n",
    "# Show plot.\n",
    "plt.show()"
   ]
  },
  {
   "cell_type": "markdown",
   "id": "8dc7760d",
   "metadata": {},
   "source": [
    "# Regression Analysis on Each Northen and Southern Hemispheres"
   ]
  },
  {
   "cell_type": "markdown",
   "id": "31aa18ca",
   "metadata": {},
   "source": [
    "## Latitude vs. Maximum Temperature"
   ]
  },
  {
   "cell_type": "code",
   "execution_count": 209,
   "id": "4e8f5b09",
   "metadata": {},
   "outputs": [],
   "source": [
    "# Import linregress\n",
    "from scipy.stats import linregress\n",
    "# Import the time module.\n",
    "# to add the current date rather than the datetime module\n",
    "import time\n",
    "\n",
    "# Create a function to create perform linear regression on the weather data\n",
    "# and plot a regression line and the equation with the data.\n",
    "def plot_linear_regression(x_values, y_values, title, y_label, text_coordinates, corr_coordinates, p_coordinates):\n",
    "\n",
    "    # Run regression on hemisphere weather data.\n",
    "    (slope, intercept, r_value, p_value, std_err) = linregress(x_values, y_values)\n",
    "\n",
    "    # Calculate the regression line \"y values\" from the slope and intercept.\n",
    "    regress_values = x_values * slope + intercept\n",
    "    # Get the equation of the line.\n",
    "    line_eq = \"y = \" + str(round(slope,2)) + \"x + \" + str(round(intercept,2))\n",
    "    # Create a scatter plot and plot the regression line.\n",
    "    plt.scatter(x_values,y_values, color=\"skyblue\", edgecolor=\"black\", linewidths=1, alpha=0.8)\n",
    "    plt.plot(x_values,regress_values,\"coral\")\n",
    "    # Annotate the text for the line equation.\n",
    "    plt.annotate(line_eq, text_coordinates, fontsize=15, color=\"coral\")\n",
    "    \n",
    "    corr_coeff = \"Correlation coefficient = \" + str(round(r_value, 2))\n",
    "    plt.annotate(corr_coeff, corr_coordinates, color=\"grey\")\n",
    "    \n",
    "    p_value = \"P-value = \" + str(round(p_value, 2))\n",
    "    plt.annotate(p_value, p_coordinates, color=\"grey\")\n",
    "    \n",
    "    today = time.strftime(\"%x\")\n",
    "    plt.title(title + \"\\n\" + today)\n",
    "    plt.xlabel('Latitude')\n",
    "    plt.ylabel(y_label)\n",
    "    plt.grid(True)\n",
    "    plt.show()"
   ]
  },
  {
   "cell_type": "code",
   "execution_count": 210,
   "id": "869ae921",
   "metadata": {},
   "outputs": [],
   "source": [
    "# Create Northern and Southern Hemisphere DataFrames.\n",
    "northern_hemi_df = city_data_df.loc[(city_data_df[\"Lat\"] >= 0)]\n",
    "southern_hemi_df = city_data_df.loc[(city_data_df[\"Lat\"] < 0)]"
   ]
  },
  {
   "cell_type": "code",
   "execution_count": 213,
   "id": "e9186a5f",
   "metadata": {},
   "outputs": [
    {
     "data": {
      "image/png": "[encoded data removed]",
      "text/plain": [
       "<Figure size 432x288 with 1 Axes>"
      ]
     },
     "metadata": {
      "needs_background": "light"
     },
     "output_type": "display_data"
    },
    {
     "data": {
      "text/plain": [
       "<Figure size 432x288 with 0 Axes>"
      ]
     },
     "metadata": {},
     "output_type": "display_data"
    }
   ],
   "source": [
    "# Linear regression on the Northern Hemisphere\n",
    "x_values = northern_hemi_df[\"Lat\"]\n",
    "y_values = northern_hemi_df[\"Max Temp\"]\n",
    "# Call the function.\n",
    "plot_linear_regression(x_values, y_values,\n",
    "                       \"Linear Regression on the Northern Hemisphere \\n for Maximum Temperature\", \n",
    "                       \"Max Temp\",(0,0), (0, -20), (0, -40))\n",
    "plt.savefig(\"weather_data/Latitude vs. Max Temp_North.png\")"
   ]
  },
  {
   "cell_type": "code",
   "execution_count": 216,
   "id": "d05be4c4",
   "metadata": {},
   "outputs": [
    {
     "data": {
      "image/png": "[encoded data removed]",
      "text/plain": [
       "<Figure size 432x288 with 1 Axes>"
      ]
     },
     "metadata": {
      "needs_background": "light"
     },
     "output_type": "display_data"
    },
    {
     "data": {
      "text/plain": [
       "<Figure size 432x288 with 0 Axes>"
      ]
     },
     "metadata": {},
     "output_type": "display_data"
    }
   ],
   "source": [
    "# Linear regression on the Southern Hemisphere\n",
    "x_values = southern_hemi_df[\"Lat\"]\n",
    "y_values = southern_hemi_df[\"Max Temp\"]\n",
    "# Call the function.\n",
    "plot_linear_regression(x_values, y_values,\n",
    "                       'Linear Regression on the Southern Hemisphere \\n for Maximum Temperature', \n",
    "                       'Max Temp',(-55,90), (-25, 45), (-25, 40))\n",
    "plt.savefig(\"weather_data/Latitude vs. Max Temp_South.png\")"
   ]
  },
  {
   "cell_type": "markdown",
   "id": "107b0705",
   "metadata": {},
   "source": [
    "## Latitude vs. % of Humidity"
   ]
  },
  {
   "cell_type": "code",
   "execution_count": 234,
   "id": "c31ac1e0",
   "metadata": {},
   "outputs": [
    {
     "data": {
      "image/png": "[encoded data removed]",
      "text/plain": [
       "<Figure size 432x288 with 1 Axes>"
      ]
     },
     "metadata": {
      "needs_background": "light"
     },
     "output_type": "display_data"
    },
    {
     "data": {
      "text/plain": [
       "<Figure size 432x288 with 0 Axes>"
      ]
     },
     "metadata": {},
     "output_type": "display_data"
    }
   ],
   "source": [
    "# Linear regression on the Northern Hemisphere\n",
    "x_values = northern_hemi_df[\"Lat\"]\n",
    "y_values = northern_hemi_df[\"Humidity\"]\n",
    "# Call the function.\n",
    "plot_linear_regression(x_values, y_values,\n",
    "                       'Linear Regression on the Northern Hemisphere \\n for % Humidity', \n",
    "                       '% Humidity',(45,30), (42,16), (42, 10))\n",
    "plt.savefig(\"weather_data/Latitude vs. Humidity_North.png\")"
   ]
  },
  {
   "cell_type": "code",
   "execution_count": 235,
   "id": "455f0202",
   "metadata": {},
   "outputs": [
    {
     "data": {
      "image/png": "[encoded data removed]",
      "text/plain": [
       "<Figure size 432x288 with 1 Axes>"
      ]
     },
     "metadata": {
      "needs_background": "light"
     },
     "output_type": "display_data"
    },
    {
     "data": {
      "text/plain": [
       "<Figure size 432x288 with 0 Axes>"
      ]
     },
     "metadata": {},
     "output_type": "display_data"
    }
   ],
   "source": [
    "# Linear regression on the Southern Hemisphere\n",
    "x_values = southern_hemi_df[\"Lat\"]\n",
    "y_values = southern_hemi_df[\"Humidity\"]\n",
    "# Call the function.\n",
    "plot_linear_regression(x_values, y_values,\n",
    "                       'Linear Regression on the Southern Hemisphere \\n for % Humidity', \n",
    "                       '% Humidity',(-55,20), (-25, 20), (-10, 30))\n",
    "\n",
    "plt.savefig(\"weather_data/Latitude vs. Humidity_South.png\")"
   ]
  },
  {
   "cell_type": "markdown",
   "id": "72c57dc6",
   "metadata": {},
   "source": [
    "## City Latitude vs. Cloudiness"
   ]
  },
  {
   "cell_type": "code",
   "execution_count": 238,
   "id": "549b6106",
   "metadata": {},
   "outputs": [
    {
     "data": {
      "image/png": "[encoded data removed]",
      "text/plain": [
       "<Figure size 432x288 with 1 Axes>"
      ]
     },
     "metadata": {
      "needs_background": "light"
     },
     "output_type": "display_data"
    },
    {
     "data": {
      "text/plain": [
       "<Figure size 432x288 with 0 Axes>"
      ]
     },
     "metadata": {},
     "output_type": "display_data"
    }
   ],
   "source": [
    "# Linear regression on the Northern Hemisphere\n",
    "x_values = northern_hemi_df[\"Lat\"]\n",
    "y_values = northern_hemi_df[\"Cloudiness\"]\n",
    "# Call the function.\n",
    "plot_linear_regression(x_values, y_values,\n",
    "                       'Linear Regression on the Northern Hemisphere \\n for % Cloudiness', \n",
    "                       '% Cloudiness',(50,25), (44, 10), (65, 5))\n",
    "plt.savefig(\"weather_data/Latitude vs. Cloudiness_North.png\")"
   ]
  },
  {
   "cell_type": "code",
   "execution_count": 257,
   "id": "6254d142",
   "metadata": {},
   "outputs": [
    {
     "data": {
      "image/png": "[encoded data removed]",
      "text/plain": [
       "<Figure size 432x288 with 1 Axes>"
      ]
     },
     "metadata": {
      "needs_background": "light"
     },
     "output_type": "display_data"
    },
    {
     "data": {
      "text/plain": [
       "<Figure size 432x288 with 0 Axes>"
      ]
     },
     "metadata": {},
     "output_type": "display_data"
    }
   ],
   "source": [
    "# Linear regression on the Southern Hemisphere\n",
    "x_values = southern_hemi_df[\"Lat\"]\n",
    "y_values = southern_hemi_df[\"Cloudiness\"]\n",
    "# Call the function.\n",
    "plot_linear_regression(x_values, y_values,\n",
    "                       'Linear Regression on the Southern Hemisphere \\n for % Cloudiness', \n",
    "                       '% Cloudiness',(-50,85), (-56, 60), (-56, 45))\n",
    "plt.savefig(\"weather_data/Latitude vs. Cloudiness_South.png\")"
   ]
  },
  {
   "cell_type": "markdown",
   "id": "09a6766c",
   "metadata": {},
   "source": [
    "## City Latitude vs. Wind Speed"
   ]
  },
  {
   "cell_type": "code",
   "execution_count": 258,
   "id": "bebf4475",
   "metadata": {},
   "outputs": [
    {
     "data": {
      "image/png": "[encoded data removed]",
      "text/plain": [
       "<Figure size 432x288 with 1 Axes>"
      ]
     },
     "metadata": {
      "needs_background": "light"
     },
     "output_type": "display_data"
    },
    {
     "data": {
      "text/plain": [
       "<Figure size 432x288 with 0 Axes>"
      ]
     },
     "metadata": {},
     "output_type": "display_data"
    }
   ],
   "source": [
    "# Linear regression on the Northern Hemisphere\n",
    "x_values = northern_hemi_df[\"Lat\"]\n",
    "y_values = northern_hemi_df[\"Wind Speed\"]\n",
    "# Call the function.\n",
    "plot_linear_regression(x_values, y_values,\n",
    "                       'Linear Regression on the Northern Hemisphere \\n for Wind Speed', \n",
    "                       'Wind Speed',(0,35), (0, 30), (0, 25))\n",
    "plt.savefig(\"weather_data/Latitude vs. Wind Speed_North.png\")"
   ]
  },
  {
   "cell_type": "code",
   "execution_count": 260,
   "id": "6ef2f953",
   "metadata": {},
   "outputs": [
    {
     "data": {
      "image/png": "[encoded data removed]",
      "text/plain": [
       "<Figure size 432x288 with 1 Axes>"
      ]
     },
     "metadata": {
      "needs_background": "light"
     },
     "output_type": "display_data"
    },
    {
     "data": {
      "text/plain": [
       "<Figure size 432x288 with 0 Axes>"
      ]
     },
     "metadata": {},
     "output_type": "display_data"
    }
   ],
   "source": [
    "# Linear regression on the Southern Hemisphere\n",
    "x_values = southern_hemi_df[\"Lat\"]\n",
    "y_values = southern_hemi_df[\"Wind Speed\"]\n",
    "# Call the function.\n",
    "plot_linear_regression(x_values, y_values,\n",
    "                       'Linear Regression on the Southern Hemisphere \\n for Wind Speed', \n",
    "                       'Wind Speed',(-55,28), (-55, 25), (-55, 21))\n",
    "plt.savefig(\"weather_data/Latitude vs. Wind Speed_South.png\")"
   ]
  },
  {
   "cell_type": "markdown",
   "id": "1ea75746",
   "metadata": {},
   "source": [
    "# Creating Heatmpas for Weather Parameters"
   ]
  },
  {
   "cell_type": "code",
   "execution_count": 71,
   "id": "fe19683a",
   "metadata": {},
   "outputs": [],
   "source": [
    "# Import the dependencies \n",
    "import pandas as pd\n",
    "import gmaps\n",
    "import requests\n",
    "\n",
    "# Import the API key \n",
    "from config import g_key"
   ]
  },
  {
   "cell_type": "code",
   "execution_count": 33,
   "id": "55ec4763",
   "metadata": {},
   "outputs": [
    {
     "data": {
      "text/html": [
       "<div>\n",
       "<style scoped>\n",
       "    .dataframe tbody tr th:only-of-type {\n",
       "        vertical-align: middle;\n",
       "    }\n",
       "\n",
       "    .dataframe tbody tr th {\n",
       "        vertical-align: top;\n",
       "    }\n",
       "\n",
       "    .dataframe thead th {\n",
       "        text-align: right;\n",
       "    }\n",
       "</style>\n",
       "<table border=\"1\" class=\"dataframe\">\n",
       "  <thead>\n",
       "    <tr style=\"text-align: right;\">\n",
       "      <th></th>\n",
       "      <th>City_ID</th>\n",
       "      <th>City</th>\n",
       "      <th>Country</th>\n",
       "      <th>Date</th>\n",
       "      <th>Lat</th>\n",
       "      <th>Lng</th>\n",
       "      <th>Max Temp</th>\n",
       "      <th>Humidity</th>\n",
       "      <th>Cloudiness</th>\n",
       "      <th>Wind Speed</th>\n",
       "    </tr>\n",
       "  </thead>\n",
       "  <tbody>\n",
       "    <tr>\n",
       "      <th>0</th>\n",
       "      <td>0</td>\n",
       "      <td>Axim</td>\n",
       "      <td>GH</td>\n",
       "      <td>2022-02-19 17:21:46</td>\n",
       "      <td>4.8699</td>\n",
       "      <td>-2.2405</td>\n",
       "      <td>82.81</td>\n",
       "      <td>73</td>\n",
       "      <td>97</td>\n",
       "      <td>10.67</td>\n",
       "    </tr>\n",
       "    <tr>\n",
       "      <th>1</th>\n",
       "      <td>1</td>\n",
       "      <td>Gwadar</td>\n",
       "      <td>PK</td>\n",
       "      <td>2022-02-19 17:21:47</td>\n",
       "      <td>25.1216</td>\n",
       "      <td>62.3254</td>\n",
       "      <td>72.66</td>\n",
       "      <td>62</td>\n",
       "      <td>0</td>\n",
       "      <td>8.34</td>\n",
       "    </tr>\n",
       "    <tr>\n",
       "      <th>2</th>\n",
       "      <td>2</td>\n",
       "      <td>Assiniboia</td>\n",
       "      <td>CA</td>\n",
       "      <td>2022-02-19 17:21:47</td>\n",
       "      <td>49.6334</td>\n",
       "      <td>-105.9845</td>\n",
       "      <td>33.62</td>\n",
       "      <td>64</td>\n",
       "      <td>70</td>\n",
       "      <td>19.57</td>\n",
       "    </tr>\n",
       "    <tr>\n",
       "      <th>3</th>\n",
       "      <td>3</td>\n",
       "      <td>Punta Arenas</td>\n",
       "      <td>CL</td>\n",
       "      <td>2022-02-19 17:16:57</td>\n",
       "      <td>-53.1500</td>\n",
       "      <td>-70.9167</td>\n",
       "      <td>46.42</td>\n",
       "      <td>78</td>\n",
       "      <td>100</td>\n",
       "      <td>14.97</td>\n",
       "    </tr>\n",
       "    <tr>\n",
       "      <th>4</th>\n",
       "      <td>4</td>\n",
       "      <td>Hermanus</td>\n",
       "      <td>ZA</td>\n",
       "      <td>2022-02-19 17:21:47</td>\n",
       "      <td>-34.4187</td>\n",
       "      <td>19.2345</td>\n",
       "      <td>70.90</td>\n",
       "      <td>82</td>\n",
       "      <td>30</td>\n",
       "      <td>9.48</td>\n",
       "    </tr>\n",
       "  </tbody>\n",
       "</table>\n",
       "</div>"
      ],
      "text/plain": [
       "   City_ID          City Country                 Date      Lat       Lng  \\\n",
       "0        0          Axim      GH  2022-02-19 17:21:46   4.8699   -2.2405   \n",
       "1        1        Gwadar      PK  2022-02-19 17:21:47  25.1216   62.3254   \n",
       "2        2    Assiniboia      CA  2022-02-19 17:21:47  49.6334 -105.9845   \n",
       "3        3  Punta Arenas      CL  2022-02-19 17:16:57 -53.1500  -70.9167   \n",
       "4        4      Hermanus      ZA  2022-02-19 17:21:47 -34.4187   19.2345   \n",
       "\n",
       "   Max Temp  Humidity  Cloudiness  Wind Speed  \n",
       "0     82.81        73          97       10.67  \n",
       "1     72.66        62           0        8.34  \n",
       "2     33.62        64          70       19.57  \n",
       "3     46.42        78         100       14.97  \n",
       "4     70.90        82          30        9.48  "
      ]
     },
     "execution_count": 33,
     "metadata": {},
     "output_type": "execute_result"
    }
   ],
   "source": [
    "# Store the CSV with the weather data into a DataFrame\n",
    "city_data_df = pd.read_csv(\"weather_data/cities.csv\")\n",
    "city_data_df.head()"
   ]
  },
  {
   "cell_type": "code",
   "execution_count": 34,
   "id": "692e4e49",
   "metadata": {},
   "outputs": [
    {
     "data": {
      "text/plain": [
       "count    660.000000\n",
       "mean      53.211712\n",
       "std       32.130345\n",
       "min      -43.080000\n",
       "25%       35.015000\n",
       "50%       63.705000\n",
       "75%       78.150000\n",
       "max       99.820000\n",
       "Name: Max Temp, dtype: float64"
      ]
     },
     "execution_count": 34,
     "metadata": {},
     "output_type": "execute_result"
    }
   ],
   "source": [
    "city_data_df[\"Max Temp\"].describe()"
   ]
  },
  {
   "cell_type": "code",
   "execution_count": 35,
   "id": "fe722705",
   "metadata": {},
   "outputs": [
    {
     "data": {
      "text/plain": [
       "City_ID         int64\n",
       "City           object\n",
       "Country        object\n",
       "Date           object\n",
       "Lat           float64\n",
       "Lng           float64\n",
       "Max Temp      float64\n",
       "Humidity        int64\n",
       "Cloudiness      int64\n",
       "Wind Speed    float64\n",
       "dtype: object"
      ]
     },
     "execution_count": 35,
     "metadata": {},
     "output_type": "execute_result"
    }
   ],
   "source": [
    "# When using gmaps, the data must be either an integer or floating-point decimal\n",
    "# Get the datatypes\n",
    "city_data_df.dtypes"
   ]
  },
  {
   "cell_type": "code",
   "execution_count": 36,
   "id": "321c5660",
   "metadata": {},
   "outputs": [],
   "source": [
    "# Configure gmaps to use your Google API Key\n",
    "gmaps.configure(api_key=g_key)"
   ]
  },
  {
   "cell_type": "markdown",
   "id": "f30d118e",
   "metadata": {},
   "source": [
    "## Heatmap of temperature"
   ]
  },
  {
   "cell_type": "code",
   "execution_count": 55,
   "id": "6cb290a3",
   "metadata": {},
   "outputs": [
    {
     "data": {
      "text/html": [
       "<div>\n",
       "<style scoped>\n",
       "    .dataframe tbody tr th:only-of-type {\n",
       "        vertical-align: middle;\n",
       "    }\n",
       "\n",
       "    .dataframe tbody tr th {\n",
       "        vertical-align: top;\n",
       "    }\n",
       "\n",
       "    .dataframe thead th {\n",
       "        text-align: right;\n",
       "    }\n",
       "</style>\n",
       "<table border=\"1\" class=\"dataframe\">\n",
       "  <thead>\n",
       "    <tr style=\"text-align: right;\">\n",
       "      <th></th>\n",
       "      <th>0</th>\n",
       "    </tr>\n",
       "  </thead>\n",
       "  <tbody>\n",
       "    <tr>\n",
       "      <th>count</th>\n",
       "      <td>660.000000</td>\n",
       "    </tr>\n",
       "    <tr>\n",
       "      <th>mean</th>\n",
       "      <td>54.808333</td>\n",
       "    </tr>\n",
       "    <tr>\n",
       "      <th>std</th>\n",
       "      <td>28.605451</td>\n",
       "    </tr>\n",
       "    <tr>\n",
       "      <th>min</th>\n",
       "      <td>0.000000</td>\n",
       "    </tr>\n",
       "    <tr>\n",
       "      <th>25%</th>\n",
       "      <td>35.015000</td>\n",
       "    </tr>\n",
       "    <tr>\n",
       "      <th>50%</th>\n",
       "      <td>63.705000</td>\n",
       "    </tr>\n",
       "    <tr>\n",
       "      <th>75%</th>\n",
       "      <td>78.150000</td>\n",
       "    </tr>\n",
       "    <tr>\n",
       "      <th>max</th>\n",
       "      <td>99.820000</td>\n",
       "    </tr>\n",
       "  </tbody>\n",
       "</table>\n",
       "</div>"
      ],
      "text/plain": [
       "                0\n",
       "count  660.000000\n",
       "mean    54.808333\n",
       "std     28.605451\n",
       "min      0.000000\n",
       "25%     35.015000\n",
       "50%     63.705000\n",
       "75%     78.150000\n",
       "max     99.820000"
      ]
     },
     "execution_count": 55,
     "metadata": {},
     "output_type": "execute_result"
    }
   ],
   "source": [
    "# Google heatmaps do not plot negative numbers. \n",
    "# If you have negative values, you will get an InvalidWeightException error. \n",
    "\n",
    "# Since the generated weather data has negative values for maximum temperatures. We need to select only positive ones. \n",
    "# Get the maximum temperature \n",
    "max_temp = city_data_df[\"Max Temp\"]\n",
    "temps = [max(temp, 0) for temp in max_temp]\n",
    "# Check if the min is 0.     \n",
    "temps_df = pd.DataFrame(temps)\n",
    "temps_df.describe()\n",
    "# Now, the number of cities has decreased to 660 cities with only positive maximum temperatures. "
   ]
  },
  {
   "cell_type": "code",
   "execution_count": 53,
   "id": "b3cb6269",
   "metadata": {},
   "outputs": [
    {
     "data": {
      "application/vnd.jupyter.widget-view+json": {
       "model_id": "f67300ffcb2f4ec49cf02612fcb69f0e",
       "version_major": 2,
       "version_minor": 0
      },
      "text/plain": [
       "Figure(layout=FigureLayout(height='420px'))"
      ]
     },
     "metadata": {},
     "output_type": "display_data"
    }
   ],
   "source": [
    "# Adjust the Heatmap Zoom, Intensity, and Point Radius\n",
    "\n",
    "# Get the latutitude and longitude \n",
    "locations = city_data_df[[\"Lat\", \"Lng\"]]\n",
    "# Get the maximum temperature \n",
    "max_temp = city_data_df[\"Max Temp\"]\n",
    "# Assign the figure variable\n",
    "fig = gmaps.figure(center=(30.0, 31.0), zoom_level=1.5)\n",
    "# Assign the heatmap variable\n",
    "heat_layer = gmaps.heatmap_layer(locations, weights=temps, dissipating=False, max_intensity=300, point_radius=4)\n",
    "# Add the heatmap layer\n",
    "fig.add_layer(heat_layer)\n",
    "# Call the figure to plot the data\n",
    "fig"
   ]
  },
  {
   "cell_type": "markdown",
   "id": "288a05b7",
   "metadata": {},
   "source": [
    "## Humidity Heatmap"
   ]
  },
  {
   "cell_type": "code",
   "execution_count": 59,
   "id": "da13d80c",
   "metadata": {},
   "outputs": [
    {
     "data": {
      "application/vnd.jupyter.widget-view+json": {
       "model_id": "2eb7d7db723347fa8b58ede018a36a19",
       "version_major": 2,
       "version_minor": 0
      },
      "text/plain": [
       "Figure(layout=FigureLayout(height='420px'))"
      ]
     },
     "metadata": {},
     "output_type": "display_data"
    }
   ],
   "source": [
    "# Heatmap of percent humidity\n",
    "locations = city_data_df[[\"Lat\", \"Lng\"]]\n",
    "humidity = city_data_df[\"Humidity\"]\n",
    "fig = gmaps.figure(center=(30.0, 31.0), zoom_level=1.5)\n",
    "heat_layer = gmaps.heatmap_layer(locations, weights=humidity, dissipating=False, max_intensity=300, point_radius=4)\n",
    "\n",
    "fig.add_layer(heat_layer)\n",
    "# Call the figure to plot the data.\n",
    "fig"
   ]
  },
  {
   "cell_type": "markdown",
   "id": "299266d2",
   "metadata": {},
   "source": [
    "## Cloudiness Heatmap"
   ]
  },
  {
   "cell_type": "code",
   "execution_count": 57,
   "id": "25238ad9",
   "metadata": {},
   "outputs": [
    {
     "data": {
      "application/vnd.jupyter.widget-view+json": {
       "model_id": "466a73ba49ce44cdad484eade301b944",
       "version_major": 2,
       "version_minor": 0
      },
      "text/plain": [
       "Figure(layout=FigureLayout(height='420px'))"
      ]
     },
     "metadata": {},
     "output_type": "display_data"
    }
   ],
   "source": [
    "# Adjust the Heatmap Zoom, Intensity, and Point Radius\n",
    "\n",
    "# Get the latutitude and longitude \n",
    "locations = city_data_df[[\"Lat\", \"Lng\"]]\n",
    "# Get the maximum temperature \n",
    "cloudiness = city_data_df[\"Cloudiness\"]\n",
    "# Assign the figure variable\n",
    "fig = gmaps.figure(center=(30.0, 31.0), zoom_level=1.5)\n",
    "# Assign the heatmap variable\n",
    "heat_layer = gmaps.heatmap_layer(locations, weights=cloudiness, dissipating=False, max_intensity=300, point_radius=4)\n",
    "# Add the heatmap layer\n",
    "fig.add_layer(heat_layer)\n",
    "# Call the figure to plot the data\n",
    "fig"
   ]
  },
  {
   "cell_type": "markdown",
   "id": "c0e03d7a",
   "metadata": {},
   "source": [
    "## Wind Speed Heatmap"
   ]
  },
  {
   "cell_type": "code",
   "execution_count": 58,
   "id": "46c132fe",
   "metadata": {},
   "outputs": [
    {
     "data": {
      "application/vnd.jupyter.widget-view+json": {
       "model_id": "a6b5a4c144b94c838c8196d0e9845d3a",
       "version_major": 2,
       "version_minor": 0
      },
      "text/plain": [
       "Figure(layout=FigureLayout(height='420px'))"
      ]
     },
     "metadata": {},
     "output_type": "display_data"
    }
   ],
   "source": [
    "# Adjust the Heatmap Zoom, Intensity, and Point Radius\n",
    "\n",
    "# Get the latutitude and longitude \n",
    "locations = city_data_df[[\"Lat\", \"Lng\"]]\n",
    "# Get the maximum temperature \n",
    "wind_speed = city_data_df[\"Wind Speed\"]\n",
    "# Assign the figure variable\n",
    "fig = gmaps.figure(center=(30.0, 31.0), zoom_level=1.5)\n",
    "# Assign the heatmap variable\n",
    "heat_layer = gmaps.heatmap_layer(locations, weights=wind_speed, dissipating=False, max_intensity=300, point_radius=4)\n",
    "# Add the heatmap layer\n",
    "fig.add_layer(heat_layer)\n",
    "# Call the figure to plot the data\n",
    "fig"
   ]
  },
  {
   "cell_type": "markdown",
   "id": "61723039",
   "metadata": {},
   "source": [
    "# Get Vacation Criteria\n",
    "A feature on the app that allows customers to search for travel locations based on their temperature preferences. "
   ]
  },
  {
   "cell_type": "code",
   "execution_count": 60,
   "id": "04043a26",
   "metadata": {},
   "outputs": [
    {
     "name": "stdout",
     "output_type": "stream",
     "text": [
      "What is the minimum temperature you would like for your trip?75\n",
      "What is the maximum temperature you would like for your trip?90\n"
     ]
    }
   ],
   "source": [
    "min_temp = float(input(\"What is the minimum temperature you would like for your trip?\"))\n",
    "max_temp = float(input(\"What is the maximum temperature you would like for your trip?\"))"
   ]
  },
  {
   "cell_type": "code",
   "execution_count": 66,
   "id": "421a8e58",
   "metadata": {},
   "outputs": [
    {
     "data": {
      "text/html": [
       "<div>\n",
       "<style scoped>\n",
       "    .dataframe tbody tr th:only-of-type {\n",
       "        vertical-align: middle;\n",
       "    }\n",
       "\n",
       "    .dataframe tbody tr th {\n",
       "        vertical-align: top;\n",
       "    }\n",
       "\n",
       "    .dataframe thead th {\n",
       "        text-align: right;\n",
       "    }\n",
       "</style>\n",
       "<table border=\"1\" class=\"dataframe\">\n",
       "  <thead>\n",
       "    <tr style=\"text-align: right;\">\n",
       "      <th></th>\n",
       "      <th>City_ID</th>\n",
       "      <th>City</th>\n",
       "      <th>Country</th>\n",
       "      <th>Date</th>\n",
       "      <th>Lat</th>\n",
       "      <th>Lng</th>\n",
       "      <th>Max Temp</th>\n",
       "      <th>Humidity</th>\n",
       "      <th>Cloudiness</th>\n",
       "      <th>Wind Speed</th>\n",
       "    </tr>\n",
       "  </thead>\n",
       "  <tbody>\n",
       "    <tr>\n",
       "      <th>0</th>\n",
       "      <td>0</td>\n",
       "      <td>Axim</td>\n",
       "      <td>GH</td>\n",
       "      <td>2022-02-19 17:21:46</td>\n",
       "      <td>4.8699</td>\n",
       "      <td>-2.2405</td>\n",
       "      <td>82.81</td>\n",
       "      <td>73</td>\n",
       "      <td>97</td>\n",
       "      <td>10.67</td>\n",
       "    </tr>\n",
       "    <tr>\n",
       "      <th>5</th>\n",
       "      <td>5</td>\n",
       "      <td>Rikitea</td>\n",
       "      <td>PF</td>\n",
       "      <td>2022-02-19 17:21:47</td>\n",
       "      <td>-23.1203</td>\n",
       "      <td>-134.9692</td>\n",
       "      <td>78.04</td>\n",
       "      <td>70</td>\n",
       "      <td>13</td>\n",
       "      <td>9.13</td>\n",
       "    </tr>\n",
       "    <tr>\n",
       "      <th>9</th>\n",
       "      <td>9</td>\n",
       "      <td>Kerewan</td>\n",
       "      <td>GM</td>\n",
       "      <td>2022-02-19 17:21:48</td>\n",
       "      <td>13.4898</td>\n",
       "      <td>-16.0888</td>\n",
       "      <td>87.91</td>\n",
       "      <td>9</td>\n",
       "      <td>14</td>\n",
       "      <td>5.93</td>\n",
       "    </tr>\n",
       "    <tr>\n",
       "      <th>17</th>\n",
       "      <td>17</td>\n",
       "      <td>Santa Maria</td>\n",
       "      <td>BR</td>\n",
       "      <td>2022-02-19 17:21:36</td>\n",
       "      <td>-29.6842</td>\n",
       "      <td>-53.8069</td>\n",
       "      <td>87.10</td>\n",
       "      <td>40</td>\n",
       "      <td>20</td>\n",
       "      <td>10.36</td>\n",
       "    </tr>\n",
       "    <tr>\n",
       "      <th>21</th>\n",
       "      <td>21</td>\n",
       "      <td>Chuy</td>\n",
       "      <td>UY</td>\n",
       "      <td>2022-02-19 17:21:53</td>\n",
       "      <td>-33.6971</td>\n",
       "      <td>-53.4616</td>\n",
       "      <td>77.65</td>\n",
       "      <td>57</td>\n",
       "      <td>37</td>\n",
       "      <td>10.69</td>\n",
       "    </tr>\n",
       "    <tr>\n",
       "      <th>25</th>\n",
       "      <td>25</td>\n",
       "      <td>Le Vauclin</td>\n",
       "      <td>MQ</td>\n",
       "      <td>2022-02-19 17:19:12</td>\n",
       "      <td>14.5452</td>\n",
       "      <td>-60.8388</td>\n",
       "      <td>84.25</td>\n",
       "      <td>58</td>\n",
       "      <td>40</td>\n",
       "      <td>17.27</td>\n",
       "    </tr>\n",
       "    <tr>\n",
       "      <th>26</th>\n",
       "      <td>26</td>\n",
       "      <td>Puerto Ayora</td>\n",
       "      <td>EC</td>\n",
       "      <td>2022-02-19 17:21:54</td>\n",
       "      <td>-0.7393</td>\n",
       "      <td>-90.3518</td>\n",
       "      <td>85.96</td>\n",
       "      <td>86</td>\n",
       "      <td>28</td>\n",
       "      <td>7.00</td>\n",
       "    </tr>\n",
       "    <tr>\n",
       "      <th>31</th>\n",
       "      <td>31</td>\n",
       "      <td>Cidreira</td>\n",
       "      <td>BR</td>\n",
       "      <td>2022-02-19 17:21:56</td>\n",
       "      <td>-30.1811</td>\n",
       "      <td>-50.2056</td>\n",
       "      <td>77.04</td>\n",
       "      <td>61</td>\n",
       "      <td>0</td>\n",
       "      <td>10.42</td>\n",
       "    </tr>\n",
       "    <tr>\n",
       "      <th>33</th>\n",
       "      <td>33</td>\n",
       "      <td>Atuona</td>\n",
       "      <td>PF</td>\n",
       "      <td>2022-02-19 17:21:56</td>\n",
       "      <td>-9.8000</td>\n",
       "      <td>-139.0333</td>\n",
       "      <td>78.04</td>\n",
       "      <td>73</td>\n",
       "      <td>15</td>\n",
       "      <td>22.19</td>\n",
       "    </tr>\n",
       "    <tr>\n",
       "      <th>46</th>\n",
       "      <td>46</td>\n",
       "      <td>Souillac</td>\n",
       "      <td>MU</td>\n",
       "      <td>2022-02-19 17:23:00</td>\n",
       "      <td>-20.5167</td>\n",
       "      <td>57.5167</td>\n",
       "      <td>79.36</td>\n",
       "      <td>100</td>\n",
       "      <td>75</td>\n",
       "      <td>18.41</td>\n",
       "    </tr>\n",
       "  </tbody>\n",
       "</table>\n",
       "</div>"
      ],
      "text/plain": [
       "    City_ID          City Country                 Date      Lat       Lng  \\\n",
       "0         0          Axim      GH  2022-02-19 17:21:46   4.8699   -2.2405   \n",
       "5         5       Rikitea      PF  2022-02-19 17:21:47 -23.1203 -134.9692   \n",
       "9         9       Kerewan      GM  2022-02-19 17:21:48  13.4898  -16.0888   \n",
       "17       17   Santa Maria      BR  2022-02-19 17:21:36 -29.6842  -53.8069   \n",
       "21       21          Chuy      UY  2022-02-19 17:21:53 -33.6971  -53.4616   \n",
       "25       25    Le Vauclin      MQ  2022-02-19 17:19:12  14.5452  -60.8388   \n",
       "26       26  Puerto Ayora      EC  2022-02-19 17:21:54  -0.7393  -90.3518   \n",
       "31       31      Cidreira      BR  2022-02-19 17:21:56 -30.1811  -50.2056   \n",
       "33       33        Atuona      PF  2022-02-19 17:21:56  -9.8000 -139.0333   \n",
       "46       46      Souillac      MU  2022-02-19 17:23:00 -20.5167   57.5167   \n",
       "\n",
       "    Max Temp  Humidity  Cloudiness  Wind Speed  \n",
       "0      82.81        73          97       10.67  \n",
       "5      78.04        70          13        9.13  \n",
       "9      87.91         9          14        5.93  \n",
       "17     87.10        40          20       10.36  \n",
       "21     77.65        57          37       10.69  \n",
       "25     84.25        58          40       17.27  \n",
       "26     85.96        86          28        7.00  \n",
       "31     77.04        61           0       10.42  \n",
       "33     78.04        73          15       22.19  \n",
       "46     79.36       100          75       18.41  "
      ]
     },
     "execution_count": 66,
     "metadata": {},
     "output_type": "execute_result"
    }
   ],
   "source": [
    "# Filter the dataset to find the cities that fit criteria \n",
    "preferred_cities_df = city_data_df.loc[(city_data_df[\"Max Temp\"] <= max_temp) & \n",
    "                                       (city_data_df[\"Max Temp\"] >= min_temp)]\n",
    "preferred_cities_df.head(10)"
   ]
  },
  {
   "cell_type": "code",
   "execution_count": 68,
   "id": "31958b2f",
   "metadata": {},
   "outputs": [
    {
     "data": {
      "text/plain": [
       "City_ID       193\n",
       "City          193\n",
       "Country       190\n",
       "Date          193\n",
       "Lat           193\n",
       "Lng           193\n",
       "Max Temp      193\n",
       "Humidity      193\n",
       "Cloudiness    193\n",
       "Wind Speed    193\n",
       "dtype: int64"
      ]
     },
     "execution_count": 68,
     "metadata": {},
     "output_type": "execute_result"
    }
   ],
   "source": [
    "preferred_cities_df.count()\n",
    "# The final list of cities contains 193 cities and has no missing values"
   ]
  },
  {
   "cell_type": "markdown",
   "id": "6a992369",
   "metadata": {},
   "source": [
    "## Get Travel Destinations with Nearby Hotels"
   ]
  },
  {
   "cell_type": "code",
   "execution_count": 84,
   "id": "235fd13e",
   "metadata": {},
   "outputs": [
    {
     "data": {
      "text/html": [
       "<div>\n",
       "<style scoped>\n",
       "    .dataframe tbody tr th:only-of-type {\n",
       "        vertical-align: middle;\n",
       "    }\n",
       "\n",
       "    .dataframe tbody tr th {\n",
       "        vertical-align: top;\n",
       "    }\n",
       "\n",
       "    .dataframe thead th {\n",
       "        text-align: right;\n",
       "    }\n",
       "</style>\n",
       "<table border=\"1\" class=\"dataframe\">\n",
       "  <thead>\n",
       "    <tr style=\"text-align: right;\">\n",
       "      <th></th>\n",
       "      <th>City</th>\n",
       "      <th>Country</th>\n",
       "      <th>Max Temp</th>\n",
       "      <th>Lat</th>\n",
       "      <th>Lng</th>\n",
       "      <th>Hotel Name</th>\n",
       "    </tr>\n",
       "  </thead>\n",
       "  <tbody>\n",
       "    <tr>\n",
       "      <th>0</th>\n",
       "      <td>Axim</td>\n",
       "      <td>GH</td>\n",
       "      <td>82.81</td>\n",
       "      <td>4.8699</td>\n",
       "      <td>-2.2405</td>\n",
       "      <td></td>\n",
       "    </tr>\n",
       "    <tr>\n",
       "      <th>5</th>\n",
       "      <td>Rikitea</td>\n",
       "      <td>PF</td>\n",
       "      <td>78.04</td>\n",
       "      <td>-23.1203</td>\n",
       "      <td>-134.9692</td>\n",
       "      <td></td>\n",
       "    </tr>\n",
       "    <tr>\n",
       "      <th>9</th>\n",
       "      <td>Kerewan</td>\n",
       "      <td>GM</td>\n",
       "      <td>87.91</td>\n",
       "      <td>13.4898</td>\n",
       "      <td>-16.0888</td>\n",
       "      <td></td>\n",
       "    </tr>\n",
       "    <tr>\n",
       "      <th>17</th>\n",
       "      <td>Santa Maria</td>\n",
       "      <td>BR</td>\n",
       "      <td>87.10</td>\n",
       "      <td>-29.6842</td>\n",
       "      <td>-53.8069</td>\n",
       "      <td></td>\n",
       "    </tr>\n",
       "    <tr>\n",
       "      <th>21</th>\n",
       "      <td>Chuy</td>\n",
       "      <td>UY</td>\n",
       "      <td>77.65</td>\n",
       "      <td>-33.6971</td>\n",
       "      <td>-53.4616</td>\n",
       "      <td></td>\n",
       "    </tr>\n",
       "    <tr>\n",
       "      <th>25</th>\n",
       "      <td>Le Vauclin</td>\n",
       "      <td>MQ</td>\n",
       "      <td>84.25</td>\n",
       "      <td>14.5452</td>\n",
       "      <td>-60.8388</td>\n",
       "      <td></td>\n",
       "    </tr>\n",
       "    <tr>\n",
       "      <th>26</th>\n",
       "      <td>Puerto Ayora</td>\n",
       "      <td>EC</td>\n",
       "      <td>85.96</td>\n",
       "      <td>-0.7393</td>\n",
       "      <td>-90.3518</td>\n",
       "      <td></td>\n",
       "    </tr>\n",
       "    <tr>\n",
       "      <th>31</th>\n",
       "      <td>Cidreira</td>\n",
       "      <td>BR</td>\n",
       "      <td>77.04</td>\n",
       "      <td>-30.1811</td>\n",
       "      <td>-50.2056</td>\n",
       "      <td></td>\n",
       "    </tr>\n",
       "    <tr>\n",
       "      <th>33</th>\n",
       "      <td>Atuona</td>\n",
       "      <td>PF</td>\n",
       "      <td>78.04</td>\n",
       "      <td>-9.8000</td>\n",
       "      <td>-139.0333</td>\n",
       "      <td></td>\n",
       "    </tr>\n",
       "    <tr>\n",
       "      <th>46</th>\n",
       "      <td>Souillac</td>\n",
       "      <td>MU</td>\n",
       "      <td>79.36</td>\n",
       "      <td>-20.5167</td>\n",
       "      <td>57.5167</td>\n",
       "      <td></td>\n",
       "    </tr>\n",
       "  </tbody>\n",
       "</table>\n",
       "</div>"
      ],
      "text/plain": [
       "            City Country  Max Temp      Lat       Lng Hotel Name\n",
       "0           Axim      GH     82.81   4.8699   -2.2405           \n",
       "5        Rikitea      PF     78.04 -23.1203 -134.9692           \n",
       "9        Kerewan      GM     87.91  13.4898  -16.0888           \n",
       "17   Santa Maria      BR     87.10 -29.6842  -53.8069           \n",
       "21          Chuy      UY     77.65 -33.6971  -53.4616           \n",
       "25    Le Vauclin      MQ     84.25  14.5452  -60.8388           \n",
       "26  Puerto Ayora      EC     85.96  -0.7393  -90.3518           \n",
       "31      Cidreira      BR     77.04 -30.1811  -50.2056           \n",
       "33        Atuona      PF     78.04  -9.8000 -139.0333           \n",
       "46      Souillac      MU     79.36 -20.5167   57.5167           "
      ]
     },
     "execution_count": 84,
     "metadata": {},
     "output_type": "execute_result"
    }
   ],
   "source": [
    "# Create DataFrame called hotel_df to store hotel names along with \n",
    "# city, country, max temp, and coordinates.\n",
    "hotel_df = preferred_cities_df[[\"City\", \"Country\", \"Max Temp\", \"Lat\", \"Lng\"]].copy()\n",
    "hotel_df[\"Hotel Name\"] = \"\"\n",
    "hotel_df.head(10)"
   ]
  },
  {
   "cell_type": "code",
   "execution_count": 85,
   "id": "99bf5e7f",
   "metadata": {},
   "outputs": [
    {
     "data": {
      "text/plain": [
       "{'html_attributions': [],\n",
       " 'next_page_token': 'Aap_uEAXqnH0u5eFtuNaq-Ej6E13P3l_GtP-PMOOHP39UvEgQ6V1ZekaSODaBM3PDCvfyhnWMxjC7FJomDclMGciegsDa0v1NUY1C6Sef1fMcqqDWF4g--SsfGWCXIsEXQBbaAndLV5KyiSoclAEXjS5c0V29VHZEgzdA2fGG-2IaPx40-eEizC3kGAhttlgJfvHeLy3EvJtEAojU4WFaOgoVFosh1yUe_tAUXjMMan7RB7kXWrHsZytIHTSvEbz9Co-ThwODwze9blWcfP4FbmqkhDaTYpJBRKsSH2sNMkUs7eLYaqtcLCwaggpZu49pvSydeuYb4v0yFLW-U2YPaAaiVIbz2dNI-0iKdEYTjoXhGhu22rgZuZkpphFXthWcGe9l90R0pWgYPs3PrVjyz91vpNfrkDdXbHj6W3aT1_ZgC0psJ6MUp6gYmuX',\n",
       " 'results': [{'business_status': 'OPERATIONAL',\n",
       "   'geometry': {'location': {'lat': 48.8581126, 'lng': 2.3529277},\n",
       "    'viewport': {'northeast': {'lat': 48.8594360302915,\n",
       "      'lng': 2.354355480291502},\n",
       "     'southwest': {'lat': 48.8567380697085, 'lng': 2.351657519708498}}},\n",
       "   'icon': 'https://maps.gstatic.com/mapfiles/place_api/icons/v1/png_71/lodging-71.png',\n",
       "   'icon_background_color': '#909CE1',\n",
       "   'icon_mask_base_uri': 'https://maps.gstatic.com/mapfiles/place_api/icons/v2/hotel_pinlet',\n",
       "   'name': 'Hôtel Duo',\n",
       "   'opening_hours': {'open_now': True},\n",
       "   'photos': [{'height': 3840,\n",
       "     'html_attributions': ['<a href=\"https://maps.google.com/maps/contrib/107554201425443337224\">Hôtel Duo</a>'],\n",
       "     'photo_reference': 'Aap_uEA6RHnfNzf7Yf_MdTz68_ObTdz4OP4XeWGh9wKPvcBTBwN95JZf6h3D2rp91zkvb5y8ugoIBluVSVxzzFdOPEnBkZaRIsHDFTEPu_SQZq-MRROyvHNukIBG4Wk-pa2Hj4GDuCVO3lPh8N3k--lgzkSVFcM_32ROF9T7MI247nWw0bbT',\n",
       "     'width': 5760}],\n",
       "   'place_id': 'ChIJWU9CqB1u5kcR5P1F2SMoJmc',\n",
       "   'plus_code': {'compound_code': 'V953+65 Paris, France',\n",
       "    'global_code': '8FW4V953+65'},\n",
       "   'rating': 4.2,\n",
       "   'reference': 'ChIJWU9CqB1u5kcR5P1F2SMoJmc',\n",
       "   'scope': 'GOOGLE',\n",
       "   'types': ['night_club',\n",
       "    'spa',\n",
       "    'lodging',\n",
       "    'bar',\n",
       "    'gym',\n",
       "    'health',\n",
       "    'point_of_interest',\n",
       "    'establishment'],\n",
       "   'user_ratings_total': 318,\n",
       "   'vicinity': '11 Rue du Temple, Paris'},\n",
       "  {'business_status': 'OPERATIONAL',\n",
       "   'geometry': {'location': {'lat': 48.8582861, 'lng': 2.3464944},\n",
       "    'viewport': {'northeast': {'lat': 48.85954748029151,\n",
       "      'lng': 2.347782830291502},\n",
       "     'southwest': {'lat': 48.85684951970851, 'lng': 2.345084869708498}}},\n",
       "   'icon': 'https://maps.gstatic.com/mapfiles/place_api/icons/v1/png_71/lodging-71.png',\n",
       "   'icon_background_color': '#909CE1',\n",
       "   'icon_mask_base_uri': 'https://maps.gstatic.com/mapfiles/place_api/icons/v2/hotel_pinlet',\n",
       "   'name': 'Hôtel Britannique - Paris Centre',\n",
       "   'opening_hours': {'open_now': True},\n",
       "   'photos': [{'height': 1426,\n",
       "     'html_attributions': ['<a href=\"https://maps.google.com/maps/contrib/108984000175492464929\">Hôtel Britannique - Paris Centre</a>'],\n",
       "     'photo_reference': 'Aap_uEBETkptVB1vRu8CxGNgvqCT2VsOnsMXssk79hWkeOheB7lMeqm_qhp5q4uxCDXO-ijBzOxF09mQ-icT2ITZ12P_Tq_QUrquXVUlCFThGeKvYqyCdaJy1-6NxsvEhnslXGr2L_tfaDbAvhaADmbaZvBpf1qIOExGO_qbrk-YIVF2jZnp',\n",
       "     'width': 1476}],\n",
       "   'place_id': 'ChIJ-4Siox9u5kcRm9vM6DcMXyU',\n",
       "   'plus_code': {'compound_code': 'V85W+8H Paris, France',\n",
       "    'global_code': '8FW4V85W+8H'},\n",
       "   'rating': 4.7,\n",
       "   'reference': 'ChIJ-4Siox9u5kcRm9vM6DcMXyU',\n",
       "   'scope': 'GOOGLE',\n",
       "   'types': ['lodging', 'point_of_interest', 'establishment'],\n",
       "   'user_ratings_total': 701,\n",
       "   'vicinity': '20 Avenue Victoria, Paris'},\n",
       "  {'business_status': 'OPERATIONAL',\n",
       "   'geometry': {'location': {'lat': 48.8606655, 'lng': 2.3469293},\n",
       "    'viewport': {'northeast': {'lat': 48.8617746302915,\n",
       "      'lng': 2.347927730291502},\n",
       "     'southwest': {'lat': 48.8590766697085, 'lng': 2.345229769708499}}},\n",
       "   'icon': 'https://maps.gstatic.com/mapfiles/place_api/icons/v1/png_71/lodging-71.png',\n",
       "   'icon_background_color': '#909CE1',\n",
       "   'icon_mask_base_uri': 'https://maps.gstatic.com/mapfiles/place_api/icons/v2/hotel_pinlet',\n",
       "   'name': 'Citadines Les Halles Paris',\n",
       "   'opening_hours': {'open_now': True},\n",
       "   'photos': [{'height': 853,\n",
       "     'html_attributions': ['<a href=\"https://maps.google.com/maps/contrib/102565262508115704337\">Citadines Les Halles Paris (Apart hotel Paris)</a>'],\n",
       "     'photo_reference': 'Aap_uECYcUuvnMOhQ343N9F8qZ4xpXeO1ucR40x-UdyTDvydHAmeR_8Thv1eUpNyiuXWJILOnCfKtzSs8EG5A1JyzXaMLu5Zys_PDAwLwo2iWpGpNTyBR9XjzWFo7cpCg0nD1xYL-Kn3fzRQQQfgcaJzbGfZl6HI_uNRC95QTzlhzklV9xse',\n",
       "     'width': 1280}],\n",
       "   'place_id': 'ChIJQ_QDrxhu5kcRJzNxLLEOSfU',\n",
       "   'plus_code': {'compound_code': 'V86W+7Q Paris, France',\n",
       "    'global_code': '8FW4V86W+7Q'},\n",
       "   'rating': 4.1,\n",
       "   'reference': 'ChIJQ_QDrxhu5kcRJzNxLLEOSfU',\n",
       "   'scope': 'GOOGLE',\n",
       "   'types': ['lodging', 'point_of_interest', 'establishment'],\n",
       "   'user_ratings_total': 893,\n",
       "   'vicinity': '4 Rue des Innocents, Paris'},\n",
       "  {'business_status': 'OPERATIONAL',\n",
       "   'geometry': {'location': {'lat': 48.8607658, 'lng': 2.3465318},\n",
       "    'viewport': {'northeast': {'lat': 48.8620584302915,\n",
       "      'lng': 2.347692880291501},\n",
       "     'southwest': {'lat': 48.85936046970851, 'lng': 2.344994919708498}}},\n",
       "   'icon': 'https://maps.gstatic.com/mapfiles/place_api/icons/v1/png_71/lodging-71.png',\n",
       "   'icon_background_color': '#909CE1',\n",
       "   'icon_mask_base_uri': 'https://maps.gstatic.com/mapfiles/place_api/icons/v2/hotel_pinlet',\n",
       "   'name': 'Novotel Paris Les Halles',\n",
       "   'photos': [{'height': 2000,\n",
       "     'html_attributions': ['<a href=\"https://maps.google.com/maps/contrib/111815616573299411056\">Novotel Paris Les Halles</a>'],\n",
       "     'photo_reference': 'Aap_uECDYbk9Kh0Vd5gq-WwCccp6P-7gpOSBnwU6mmN-5TcQk_yuo0YlB-k6Qo4e_fR969msAeGsbrF2xbnMC-HWnAfeHCSzD8_GpHQGqyThib3tfI9plbXCKxwLWiQyrwf5oH4LPlnkhu21D9huOKkpJH-OrQGxJd2iJMrJEqWDW6OWEIJr',\n",
       "     'width': 3000}],\n",
       "   'place_id': 'ChIJGW2pNx9u5kcRI3oyL8NG5BQ',\n",
       "   'plus_code': {'compound_code': 'V86W+8J Paris, France',\n",
       "    'global_code': '8FW4V86W+8J'},\n",
       "   'rating': 4.4,\n",
       "   'reference': 'ChIJGW2pNx9u5kcRI3oyL8NG5BQ',\n",
       "   'scope': 'GOOGLE',\n",
       "   'types': ['lodging', 'point_of_interest', 'establishment'],\n",
       "   'user_ratings_total': 2363,\n",
       "   'vicinity': '8 Place Marguerite de Navarre, Paris'},\n",
       "  {'business_status': 'OPERATIONAL',\n",
       "   'geometry': {'location': {'lat': 48.860352, 'lng': 2.3440948},\n",
       "    'viewport': {'northeast': {'lat': 48.86165553029149,\n",
       "      'lng': 2.345549080291502},\n",
       "     'southwest': {'lat': 48.8589575697085, 'lng': 2.342851119708498}}},\n",
       "   'icon': 'https://maps.gstatic.com/mapfiles/place_api/icons/v1/png_71/lodging-71.png',\n",
       "   'icon_background_color': '#909CE1',\n",
       "   'icon_mask_base_uri': 'https://maps.gstatic.com/mapfiles/place_api/icons/v2/hotel_pinlet',\n",
       "   'name': 'Hôtel Ducs de Bourgogne',\n",
       "   'opening_hours': {'open_now': True},\n",
       "   'photos': [{'height': 1390,\n",
       "     'html_attributions': ['<a href=\"https://maps.google.com/maps/contrib/101411638353598558320\">Hôtel Ducs de Bourgogne</a>'],\n",
       "     'photo_reference': 'Aap_uEC4rGyX4pvt33OahBqZIWdPdgXsN0t_726gOtKStIVmB3YwnWj_QBTTeoRuSqEcj-1Prt8VLoRF_pFCe-fP5ilfoiD_i5qLFh8M080rcgRlGBvcZJVcWT5FRo8vaqxDsng08Wz_BRhO7tHJCNlPrpQVnC0ps3jW6vSnZ5Pb43OhI3bm',\n",
       "     'width': 2048}],\n",
       "   'place_id': 'ChIJifTG5yFu5kcRdnisbwxnAx4',\n",
       "   'plus_code': {'compound_code': 'V86V+4J Paris, France',\n",
       "    'global_code': '8FW4V86V+4J'},\n",
       "   'rating': 4.5,\n",
       "   'reference': 'ChIJifTG5yFu5kcRdnisbwxnAx4',\n",
       "   'scope': 'GOOGLE',\n",
       "   'types': ['lodging', 'point_of_interest', 'establishment'],\n",
       "   'user_ratings_total': 285,\n",
       "   'vicinity': '19 Rue du Pont Neuf, Paris'},\n",
       "  {'business_status': 'OPERATIONAL',\n",
       "   'geometry': {'location': {'lat': 48.8555091, 'lng': 2.3408736},\n",
       "    'viewport': {'northeast': {'lat': 48.8569076302915,\n",
       "      'lng': 2.342319280291502},\n",
       "     'southwest': {'lat': 48.8542096697085, 'lng': 2.339621319708498}}},\n",
       "   'icon': 'https://maps.gstatic.com/mapfiles/place_api/icons/v1/png_71/lodging-71.png',\n",
       "   'icon_background_color': '#909CE1',\n",
       "   'icon_mask_base_uri': 'https://maps.gstatic.com/mapfiles/place_api/icons/v2/hotel_pinlet',\n",
       "   'name': 'Citadines Saint-Germain-des-Prés Paris (Apart hotel Paris)',\n",
       "   'opening_hours': {'open_now': True},\n",
       "   'photos': [{'height': 4480,\n",
       "     'html_attributions': ['<a href=\"https://maps.google.com/maps/contrib/113188832595116816387\">Citadines Saint-Germain-des-Prés Paris</a>'],\n",
       "     'photo_reference': 'Aap_uEA4WGhmPZGMusX1GDcHKhR2HOm0JBQ2W1ZJEgO72X7HtaBXbOWsKddgPM8B9c3_NXaLb_4DMonYuTCBhqyNZmoj6vg4x85uf6kV-A4JnYTvYtrBnC2--Gefyr_XRAoHDiqfVnVPipoPoScjO_WFsjj2ieA6-qk94Wd86y9R5p73FJ-4',\n",
       "     'width': 6720}],\n",
       "   'place_id': 'ChIJo5pYcN9x5kcRERXdocMgqmE',\n",
       "   'plus_code': {'compound_code': 'V84R+68 Paris, France',\n",
       "    'global_code': '8FW4V84R+68'},\n",
       "   'rating': 4.3,\n",
       "   'reference': 'ChIJo5pYcN9x5kcRERXdocMgqmE',\n",
       "   'scope': 'GOOGLE',\n",
       "   'types': ['lodging', 'point_of_interest', 'establishment'],\n",
       "   'user_ratings_total': 728,\n",
       "   'vicinity': '53 ter Quai des Grands Augustins, Paris'},\n",
       "  {'business_status': 'OPERATIONAL',\n",
       "   'geometry': {'location': {'lat': 48.8524547, 'lng': 2.3472064},\n",
       "    'viewport': {'northeast': {'lat': 48.8538838802915,\n",
       "      'lng': 2.348601530291502},\n",
       "     'southwest': {'lat': 48.8511859197085, 'lng': 2.345903569708498}}},\n",
       "   'icon': 'https://maps.gstatic.com/mapfiles/place_api/icons/v1/png_71/lodging-71.png',\n",
       "   'icon_background_color': '#909CE1',\n",
       "   'icon_mask_base_uri': 'https://maps.gstatic.com/mapfiles/place_api/icons/v2/hotel_pinlet',\n",
       "   'name': 'Hôtel Esmeralda',\n",
       "   'opening_hours': {'open_now': False},\n",
       "   'photos': [{'height': 1960,\n",
       "     'html_attributions': ['<a href=\"https://maps.google.com/maps/contrib/106443224837840180239\">Fraz A. Khan</a>'],\n",
       "     'photo_reference': 'Aap_uEDTUiMVR3CY7-L_ifFS5bLe4UuJuARnwvvQu8xu8E-wq6_UIWv4DDooRNbOYKg1uevMwOHX-5reDoxbKRJSRgWqHuCezphlEbZSEEbXjA7HnvXqYla5WWZJfwcNcAIGODw37rLdivS1iNkNodV_7uxdswLPvEuB0Ld6bRIIUNumBsFs',\n",
       "     'width': 4032}],\n",
       "   'place_id': 'ChIJO_g_H-Fx5kcRmaabUHA3dT4',\n",
       "   'plus_code': {'compound_code': 'V82W+XV Paris, France',\n",
       "    'global_code': '8FW4V82W+XV'},\n",
       "   'rating': 4.1,\n",
       "   'reference': 'ChIJO_g_H-Fx5kcRmaabUHA3dT4',\n",
       "   'scope': 'GOOGLE',\n",
       "   'types': ['lodging', 'point_of_interest', 'establishment'],\n",
       "   'user_ratings_total': 158,\n",
       "   'vicinity': '4 Rue Saint-Julien le Pauvre, Paris'},\n",
       "  {'business_status': 'OPERATIONAL',\n",
       "   'geometry': {'location': {'lat': 48.8530901, 'lng': 2.3447174},\n",
       "    'viewport': {'northeast': {'lat': 48.8544535802915,\n",
       "      'lng': 2.345997680291501},\n",
       "     'southwest': {'lat': 48.85175561970851, 'lng': 2.343299719708498}}},\n",
       "   'icon': 'https://maps.gstatic.com/mapfiles/place_api/icons/v1/png_71/lodging-71.png',\n",
       "   'icon_background_color': '#909CE1',\n",
       "   'icon_mask_base_uri': 'https://maps.gstatic.com/mapfiles/place_api/icons/v2/hotel_pinlet',\n",
       "   'name': 'Albe Hotel',\n",
       "   'opening_hours': {'open_now': True},\n",
       "   'photos': [{'height': 1152,\n",
       "     'html_attributions': ['<a href=\"https://maps.google.com/maps/contrib/117571951379278191466\">Albe Hotel Saint Michel</a>'],\n",
       "     'photo_reference': 'Aap_uECzgOQQ38Bdic_W2HoMAtmkcMlMpC7-eTX5J9cwkDELHl2HDfQbqUjW_Qkq5WRpcQ7TpnvAtdS-f3qG5z5EpCr-5HL-MzYBhfgNDvUFMcArtGe4-XdGxCaAuWol1jtHscOwsUIb4G4nUJxkHWojuT9XvK8XTkjdXlZgIbnR2_O5gzcX',\n",
       "     'width': 1600}],\n",
       "   'place_id': 'ChIJ8R5-hOBx5kcRsCOdfj8GLeY',\n",
       "   'plus_code': {'compound_code': 'V83V+6V Paris, France',\n",
       "    'global_code': '8FW4V83V+6V'},\n",
       "   'rating': 4.4,\n",
       "   'reference': 'ChIJ8R5-hOBx5kcRsCOdfj8GLeY',\n",
       "   'scope': 'GOOGLE',\n",
       "   'types': ['lodging', 'point_of_interest', 'establishment'],\n",
       "   'user_ratings_total': 345,\n",
       "   'vicinity': '1 Rue de la Harpe, Paris'},\n",
       "  {'business_status': 'OPERATIONAL',\n",
       "   'geometry': {'location': {'lat': 48.8532403, 'lng': 2.3457375},\n",
       "    'viewport': {'northeast': {'lat': 48.85462748029149,\n",
       "      'lng': 2.347175730291502},\n",
       "     'southwest': {'lat': 48.8519295197085, 'lng': 2.344477769708498}}},\n",
       "   'icon': 'https://maps.gstatic.com/mapfiles/place_api/icons/v1/png_71/lodging-71.png',\n",
       "   'icon_background_color': '#909CE1',\n",
       "   'icon_mask_base_uri': 'https://maps.gstatic.com/mapfiles/place_api/icons/v2/hotel_pinlet',\n",
       "   'name': 'Les Rives de Notre-Dame Hotel',\n",
       "   'opening_hours': {'open_now': True},\n",
       "   'photos': [{'height': 2268,\n",
       "     'html_attributions': ['<a href=\"https://maps.google.com/maps/contrib/109297776903693488857\">Sandro Nardella</a>'],\n",
       "     'photo_reference': 'Aap_uEB6Rnybt9O5B-jzBS7ocRBmoNcjtAF7US3LtVqDuqtLtIPzQQDNSUgIPmV0epJp4uYFEaI9HyPswPgxXM2nFfHV44ZZ0vSNzuNmewFqNq9PRnTvpQrEBH_-MMz8QSvYC4UHEqt8LDu2rf0XnSrnsI83eeXMWIySOW0y86R-iO2kfO8H',\n",
       "     'width': 4032}],\n",
       "   'place_id': 'ChIJl7vs8-Bx5kcRfIQzq_4_XmU',\n",
       "   'plus_code': {'compound_code': 'V83W+77 Paris, France',\n",
       "    'global_code': '8FW4V83W+77'},\n",
       "   'rating': 4.5,\n",
       "   'reference': 'ChIJl7vs8-Bx5kcRfIQzq_4_XmU',\n",
       "   'scope': 'GOOGLE',\n",
       "   'types': ['lodging', 'point_of_interest', 'establishment'],\n",
       "   'user_ratings_total': 94,\n",
       "   'vicinity': '15 Quai Saint-Michel, Paris'},\n",
       "  {'business_status': 'OPERATIONAL',\n",
       "   'geometry': {'location': {'lat': 48.85184049999999, 'lng': 2.3448082},\n",
       "    'viewport': {'northeast': {'lat': 48.8531470802915,\n",
       "      'lng': 2.346121880291502},\n",
       "     'southwest': {'lat': 48.8504491197085, 'lng': 2.343423919708498}}},\n",
       "   'icon': 'https://maps.gstatic.com/mapfiles/place_api/icons/v1/png_71/lodging-71.png',\n",
       "   'icon_background_color': '#909CE1',\n",
       "   'icon_mask_base_uri': 'https://maps.gstatic.com/mapfiles/place_api/icons/v2/hotel_pinlet',\n",
       "   'name': 'Hôtel 4 étoiles Parc Saint Séverin Paris 5ème - Esprit de France',\n",
       "   'opening_hours': {'open_now': True},\n",
       "   'photos': [{'height': 2362,\n",
       "     'html_attributions': ['<a href=\"https://maps.google.com/maps/contrib/107542132357877294567\">Hôtel 4 étoiles Parc Saint Séverin Paris 5ème - Esprit de France</a>'],\n",
       "     'photo_reference': 'Aap_uECVoa-8ZKQGf_35XE2ApJkJOTatNzbQv3uSSsj8gCHpCWRHfCstZ5YcH8ZreCvprRGHO7tgzm3l7lELrG-8NcYsM73rrU5VC26u9TIFqZm74J89SqLVYkILKVqCTJfmRYSj2_CafhaEzjnbAFw90e9d0flFIvV_kB2nb3mEvl0bDzW8',\n",
       "     'width': 3776}],\n",
       "   'place_id': 'ChIJ9--kuuBx5kcRojwQ1yEK2cY',\n",
       "   'plus_code': {'compound_code': 'V82V+PW Paris, France',\n",
       "    'global_code': '8FW4V82V+PW'},\n",
       "   'rating': 4.6,\n",
       "   'reference': 'ChIJ9--kuuBx5kcRojwQ1yEK2cY',\n",
       "   'scope': 'GOOGLE',\n",
       "   'types': ['lodging', 'point_of_interest', 'establishment'],\n",
       "   'user_ratings_total': 162,\n",
       "   'vicinity': '22 Rue de la Parcheminerie, Paris'},\n",
       "  {'business_status': 'OPERATIONAL',\n",
       "   'geometry': {'location': {'lat': 48.8518743, 'lng': 2.3463436},\n",
       "    'viewport': {'northeast': {'lat': 48.8532481802915,\n",
       "      'lng': 2.347596830291502},\n",
       "     'southwest': {'lat': 48.8505502197085, 'lng': 2.344898869708498}}},\n",
       "   'icon': 'https://maps.gstatic.com/mapfiles/place_api/icons/v1/png_71/lodging-71.png',\n",
       "   'icon_background_color': '#909CE1',\n",
       "   'icon_mask_base_uri': 'https://maps.gstatic.com/mapfiles/place_api/icons/v2/hotel_pinlet',\n",
       "   'name': 'Hotel Henri IV Rive Gauche',\n",
       "   'photos': [{'height': 3024,\n",
       "     'html_attributions': ['<a href=\"https://maps.google.com/maps/contrib/110759590658386679133\">François ART TAPIEZO</a>'],\n",
       "     'photo_reference': 'Aap_uECfVtbyEwYpaP1o9BokSSpY2BjRKp4bPQjZggIO2d-rusnRpUI9o3JpKZlCm256DgqSj1U3D2EwiBob4-NbyNv4w7bvlLCPQZvkk_YFLGiL66Pf2xChlvZCkhpSS7uUqUl6zRoB9NpHtyjx_OcsKWlmG5xK4JNeC7yIpAEyjxBRZSI5',\n",
       "     'width': 4032}],\n",
       "   'place_id': 'ChIJ2a4f2-Bx5kcR40Wl3uv_53Y',\n",
       "   'plus_code': {'compound_code': 'V82W+PG Paris, France',\n",
       "    'global_code': '8FW4V82W+PG'},\n",
       "   'rating': 4.5,\n",
       "   'reference': 'ChIJ2a4f2-Bx5kcR40Wl3uv_53Y',\n",
       "   'scope': 'GOOGLE',\n",
       "   'types': ['lodging', 'point_of_interest', 'establishment'],\n",
       "   'user_ratings_total': 146,\n",
       "   'vicinity': 'Rue Saint-Jacques, Paris'},\n",
       "  {'business_status': 'OPERATIONAL',\n",
       "   'geometry': {'location': {'lat': 48.8600866, 'lng': 2.3533543},\n",
       "    'viewport': {'northeast': {'lat': 48.86148808029149,\n",
       "      'lng': 2.354740780291502},\n",
       "     'southwest': {'lat': 48.85879011970849, 'lng': 2.352042819708498}}},\n",
       "   'icon': 'https://maps.gstatic.com/mapfiles/place_api/icons/v1/png_71/lodging-71.png',\n",
       "   'icon_background_color': '#909CE1',\n",
       "   'icon_mask_base_uri': 'https://maps.gstatic.com/mapfiles/place_api/icons/v2/hotel_pinlet',\n",
       "   'name': 'Hôtel Beaubourg',\n",
       "   'opening_hours': {'open_now': True},\n",
       "   'photos': [{'height': 2684,\n",
       "     'html_attributions': ['<a href=\"https://maps.google.com/maps/contrib/115421447635584539926\">Hôtel Beaubourg</a>'],\n",
       "     'photo_reference': 'Aap_uEBguUVM44kV2GaZ09fCcPAkrf_XXh7iiT3RY-OmHFBpifELY4z__kRChFSLaNOkKwIsPUDX0KwmmQ5GQfjGUr8eUFyK8oDFUIkPd3Rq4FH_enmxCC5KGvV0jWoiJNYYxNWHMeX2VuTfRQZhM4g9Njx-yPEGWeqfJWMmBltrKtApwwh_',\n",
       "     'width': 5937}],\n",
       "   'place_id': 'ChIJCdHKjhxu5kcR0YtyGr7Vftc',\n",
       "   'plus_code': {'compound_code': 'V963+28 Paris, France',\n",
       "    'global_code': '8FW4V963+28'},\n",
       "   'rating': 4.2,\n",
       "   'reference': 'ChIJCdHKjhxu5kcR0YtyGr7Vftc',\n",
       "   'scope': 'GOOGLE',\n",
       "   'types': ['lodging', 'point_of_interest', 'establishment'],\n",
       "   'user_ratings_total': 149,\n",
       "   'vicinity': '11 Rue Simon le Franc, Paris'},\n",
       "  {'business_status': 'OPERATIONAL',\n",
       "   'geometry': {'location': {'lat': 48.859876, 'lng': 2.347049},\n",
       "    'viewport': {'northeast': {'lat': 48.8610872802915,\n",
       "      'lng': 2.348425880291502},\n",
       "     'southwest': {'lat': 48.8583893197085, 'lng': 2.345727919708498}}},\n",
       "   'icon': 'https://maps.gstatic.com/mapfiles/place_api/icons/v1/png_71/lodging-71.png',\n",
       "   'icon_background_color': '#909CE1',\n",
       "   'icon_mask_base_uri': 'https://maps.gstatic.com/mapfiles/place_api/icons/v2/hotel_pinlet',\n",
       "   'name': \"Hôtel Des Ducs D'Anjou\",\n",
       "   'opening_hours': {'open_now': True},\n",
       "   'photos': [{'height': 1400,\n",
       "     'html_attributions': ['<a href=\"https://maps.google.com/maps/contrib/115209143941459061727\">Hotel Des Ducs D&#39;Anjou</a>'],\n",
       "     'photo_reference': 'Aap_uEA2GYaMAOVIxhXdBPocHZbDktSI6_DGqD1CeiWexkm7n6RCuztOyLz4RfFtsypF0fplEnba1mqpFYM_gdvJfttqgCcR2aOzMmYqA1S2w0TqWKs0T5S8hfRaz9UZRslQuP9PQqUyiSP3rI8aS1X_jeWAMHfnB7g4IzHSE8P0VxttfJZT',\n",
       "     'width': 1352}],\n",
       "   'place_id': 'ChIJ9ekWGR9u5kcRsS8j5TnWeSE',\n",
       "   'plus_code': {'compound_code': 'V85W+XR Paris, France',\n",
       "    'global_code': '8FW4V85W+XR'},\n",
       "   'rating': 3.9,\n",
       "   'reference': 'ChIJ9ekWGR9u5kcRsS8j5TnWeSE',\n",
       "   'scope': 'GOOGLE',\n",
       "   'types': ['lodging', 'point_of_interest', 'establishment'],\n",
       "   'user_ratings_total': 309,\n",
       "   'vicinity': '1 Rue Sainte-Opportune, Paris'},\n",
       "  {'business_status': 'OPERATIONAL',\n",
       "   'geometry': {'location': {'lat': 48.8515237, 'lng': 2.3486679},\n",
       "    'viewport': {'northeast': {'lat': 48.8529256302915,\n",
       "      'lng': 2.349962130291502},\n",
       "     'southwest': {'lat': 48.8502276697085, 'lng': 2.347264169708498}}},\n",
       "   'icon': 'https://maps.gstatic.com/mapfiles/place_api/icons/v1/png_71/lodging-71.png',\n",
       "   'icon_background_color': '#909CE1',\n",
       "   'icon_mask_base_uri': 'https://maps.gstatic.com/mapfiles/place_api/icons/v2/hotel_pinlet',\n",
       "   'name': 'Hotel Maison Colbert Member of Meliá Collection',\n",
       "   'opening_hours': {'open_now': True},\n",
       "   'photos': [{'height': 3656,\n",
       "     'html_attributions': ['<a href=\"https://maps.google.com/maps/contrib/102194778927204133336\">Hotel Maison Colbert Member of Melia Collection</a>'],\n",
       "     'photo_reference': 'Aap_uEC-37aKI3uFo1S3tLzRZSCAgEqtaaNJPtsoqAX82gDnuU8UkalXeN1-MGftR7CxAa6R-hNk92gn-zFqKSmeb06r_jTLE1i6KuL4T-HiZS7XJA4t5ve19Jl4grx9Xs5bdAsUKmadmrPHswFjb-K0jpVRzObmkvfbgcAL8A6uqLhS7iXg',\n",
       "     'width': 3543}],\n",
       "   'place_id': 'ChIJI3vbSOFx5kcR84E4IeL2LqI',\n",
       "   'plus_code': {'compound_code': 'V82X+JF Paris, France',\n",
       "    'global_code': '8FW4V82X+JF'},\n",
       "   'rating': 4.4,\n",
       "   'reference': 'ChIJI3vbSOFx5kcR84E4IeL2LqI',\n",
       "   'scope': 'GOOGLE',\n",
       "   'types': ['lodging', 'point_of_interest', 'establishment'],\n",
       "   'user_ratings_total': 233,\n",
       "   'vicinity': \"7 Rue de l'Hôtel Colbert, Paris\"},\n",
       "  {'business_status': 'OPERATIONAL',\n",
       "   'geometry': {'location': {'lat': 48.8499446, 'lng': 2.346247699999999},\n",
       "    'viewport': {'northeast': {'lat': 48.8513264802915,\n",
       "      'lng': 2.347622530291501},\n",
       "     'southwest': {'lat': 48.8486285197085, 'lng': 2.344924569708497}}},\n",
       "   'icon': 'https://maps.gstatic.com/mapfiles/place_api/icons/v1/png_71/lodging-71.png',\n",
       "   'icon_background_color': '#909CE1',\n",
       "   'icon_mask_base_uri': 'https://maps.gstatic.com/mapfiles/place_api/icons/v2/hotel_pinlet',\n",
       "   'name': 'Home Latin',\n",
       "   'photos': [{'height': 606,\n",
       "     'html_attributions': ['<a href=\"https://maps.google.com/maps/contrib/105830788751825835396\">Peter Sheehan</a>'],\n",
       "     'photo_reference': 'Aap_uEAbtTbhVO5bu--zIqwE9fvFWEFjoT1B-D0kGb5UbDM2mqFFxu6g_LxPMHXe7VTuxJUDNdW5jkiJknaZVoJGO3M-_sq4CGCJnCwcK_3B5kMRQ_d3wdzfkOc3d31FyBRblCr8gcJaj1MDY6uKcFsNz465OikqgpTzFLGT847-HV_oTncS',\n",
       "     'width': 1080}],\n",
       "   'place_id': 'ChIJMWNDIudx5kcRupjNdNDYKkw',\n",
       "   'plus_code': {'compound_code': 'R8XW+XF Paris, France',\n",
       "    'global_code': '8FW4R8XW+XF'},\n",
       "   'rating': 3.5,\n",
       "   'reference': 'ChIJMWNDIudx5kcRupjNdNDYKkw',\n",
       "   'scope': 'GOOGLE',\n",
       "   'types': ['lodging', 'point_of_interest', 'establishment'],\n",
       "   'user_ratings_total': 311,\n",
       "   'vicinity': '15-17 Rue du Sommerard, Paris'},\n",
       "  {'business_status': 'OPERATIONAL',\n",
       "   'geometry': {'location': {'lat': 48.8514465, 'lng': 2.3495407},\n",
       "    'viewport': {'northeast': {'lat': 48.85276158029151,\n",
       "      'lng': 2.350874680291501},\n",
       "     'southwest': {'lat': 48.85006361970851, 'lng': 2.348176719708498}}},\n",
       "   'icon': 'https://maps.gstatic.com/mapfiles/place_api/icons/v1/png_71/lodging-71.png',\n",
       "   'icon_background_color': '#909CE1',\n",
       "   'icon_mask_base_uri': 'https://maps.gstatic.com/mapfiles/place_api/icons/v2/hotel_pinlet',\n",
       "   'name': 'Les Degrés de Notre Dame',\n",
       "   'photos': [{'height': 1984,\n",
       "     'html_attributions': ['<a href=\"https://maps.google.com/maps/contrib/115564994803632359392\">christophe etter</a>'],\n",
       "     'photo_reference': 'Aap_uECideAGR3mMa9xluE7yl7n-hMeS7qNTxe7vpN8XBfltjo4cUTVD_Jk-a0Bl7jyaxw0XmI2Px3t73gmF64C5ELOFykgUDmW_4Kuvm6KCdwmmwFyOtdz3YZDZifpEeBhDIRpxeEaI7XgBVLVR6XknekJVbsmlM8G7fCxJYOY0LKRrlrry',\n",
       "     'width': 3968}],\n",
       "   'place_id': 'ChIJMyUCVOFx5kcRcLsa7V0Y1m4',\n",
       "   'plus_code': {'compound_code': 'V82X+HR Paris, France',\n",
       "    'global_code': '8FW4V82X+HR'},\n",
       "   'rating': 3.8,\n",
       "   'reference': 'ChIJMyUCVOFx5kcRcLsa7V0Y1m4',\n",
       "   'scope': 'GOOGLE',\n",
       "   'types': ['lodging', 'point_of_interest', 'establishment'],\n",
       "   'user_ratings_total': 78,\n",
       "   'vicinity': '10 Rue des Grands Degrés, Paris'},\n",
       "  {'business_status': 'OPERATIONAL',\n",
       "   'geometry': {'location': {'lat': 48.85221300000001, 'lng': 2.3420703},\n",
       "    'viewport': {'northeast': {'lat': 48.8535826302915,\n",
       "      'lng': 2.343484980291502},\n",
       "     'southwest': {'lat': 48.8508846697085, 'lng': 2.340787019708498}}},\n",
       "   'icon': 'https://maps.gstatic.com/mapfiles/place_api/icons/v1/png_71/lodging-71.png',\n",
       "   'icon_background_color': '#909CE1',\n",
       "   'icon_mask_base_uri': 'https://maps.gstatic.com/mapfiles/place_api/icons/v2/hotel_pinlet',\n",
       "   'name': 'Hôtel Du Lys',\n",
       "   'photos': [{'height': 4032,\n",
       "     'html_attributions': ['<a href=\"https://maps.google.com/maps/contrib/107472282758971290035\">Juan pitarch roca</a>'],\n",
       "     'photo_reference': 'Aap_uEBJCqXFTjNkvhk5qcLJp-dWSU4ZRtuUOqmbHvF9TmOAe44dEawQKEtcaxNLROEpfhUr7L0BgxQ2zGD-mx8lwlnzwOGUPtINEqIuZ2rv-yojGNcfRTtwHW9vyNq1Dwmf0loFeevimcdosTBtjQcZvTZIFf_LQZ_rmX_3BAOMTxQvwj1J',\n",
       "     'width': 3024}],\n",
       "   'place_id': 'ChIJrcnEaN5x5kcRjjOnEG6_HHs',\n",
       "   'plus_code': {'compound_code': 'V82R+VR Paris, France',\n",
       "    'global_code': '8FW4V82R+VR'},\n",
       "   'rating': 3.8,\n",
       "   'reference': 'ChIJrcnEaN5x5kcRjjOnEG6_HHs',\n",
       "   'scope': 'GOOGLE',\n",
       "   'types': ['lodging', 'point_of_interest', 'establishment'],\n",
       "   'user_ratings_total': 223,\n",
       "   'vicinity': '23 Rue Serpente, Paris'},\n",
       "  {'business_status': 'OPERATIONAL',\n",
       "   'geometry': {'location': {'lat': 48.8607212, 'lng': 2.342585},\n",
       "    'viewport': {'northeast': {'lat': 48.8620849802915,\n",
       "      'lng': 2.343869380291502},\n",
       "     'southwest': {'lat': 48.8593870197085, 'lng': 2.341171419708498}}},\n",
       "   'icon': 'https://maps.gstatic.com/mapfiles/place_api/icons/v1/png_71/lodging-71.png',\n",
       "   'icon_background_color': '#909CE1',\n",
       "   'icon_mask_base_uri': 'https://maps.gstatic.com/mapfiles/place_api/icons/v2/hotel_pinlet',\n",
       "   'name': \"L'Empire Paris\",\n",
       "   'opening_hours': {'open_now': True},\n",
       "   'photos': [{'height': 1123,\n",
       "     'html_attributions': ['<a href=\"https://maps.google.com/maps/contrib/112201701198428774080\">L&#39;Empire Paris</a>'],\n",
       "     'photo_reference': 'Aap_uEBDhVRkzv8jt3nYkoW8qbqy_vgcfz22z1Gre3AI8DrfPbfaYLgbJgTE76EbGTtQ0xLcXLZk1a4KkU9HSLV8mQdWXsrkxW1rrnDYESoXkjHOvsb3PAlBmmt_ApAbcQf89A81cPeZX9qIQUw8ANljMcQfyZxalgH2QF885ZvmIUOWHJW_',\n",
       "     'width': 2000}],\n",
       "   'place_id': 'ChIJ0Wj4hCFu5kcRQ67Hb2M6b9Q',\n",
       "   'plus_code': {'compound_code': 'V86V+72 Paris, France',\n",
       "    'global_code': '8FW4V86V+72'},\n",
       "   'rating': 4.2,\n",
       "   'reference': 'ChIJ0Wj4hCFu5kcRQ67Hb2M6b9Q',\n",
       "   'scope': 'GOOGLE',\n",
       "   'types': ['lodging', 'point_of_interest', 'establishment'],\n",
       "   'user_ratings_total': 450,\n",
       "   'vicinity': \"48 Rue de l'Arbre Sec, Paris\"},\n",
       "  {'business_status': 'OPERATIONAL',\n",
       "   'geometry': {'location': {'lat': 48.85924579999999,\n",
       "     'lng': 2.341004799999999},\n",
       "    'viewport': {'northeast': {'lat': 48.8606175802915,\n",
       "      'lng': 2.342363980291502},\n",
       "     'southwest': {'lat': 48.8579196197085, 'lng': 2.339666019708498}}},\n",
       "   'icon': 'https://maps.gstatic.com/mapfiles/place_api/icons/v1/png_71/lodging-71.png',\n",
       "   'icon_background_color': '#909CE1',\n",
       "   'icon_mask_base_uri': 'https://maps.gstatic.com/mapfiles/place_api/icons/v2/hotel_pinlet',\n",
       "   'name': 'Hotel Relais Du Louvre',\n",
       "   'photos': [{'height': 3024,\n",
       "     'html_attributions': ['<a href=\"https://maps.google.com/maps/contrib/113229819060416823993\">Constance Fodé</a>'],\n",
       "     'photo_reference': 'Aap_uEAw-JheQWLHWZUR33DW1r46gIjrospUvQA_fq1emKiT4pRV3dEG4Dk_kdej4UZcZJizm4hZwYCzoQFmZoj0WGo7Y-gM3-k6ABXfEoBJwPWjtUVAOsbRRlgYsd5wHDLkNa8BxRshGuUwLN6i9hUvghk9ZESXsSWL3y7ipUv_iwJU6g7T',\n",
       "     'width': 4032}],\n",
       "   'place_id': 'ChIJb4ExGiFu5kcRx-LufqT5JSw',\n",
       "   'plus_code': {'compound_code': 'V85R+MC Paris, France',\n",
       "    'global_code': '8FW4V85R+MC'},\n",
       "   'rating': 4.6,\n",
       "   'reference': 'ChIJb4ExGiFu5kcRx-LufqT5JSw',\n",
       "   'scope': 'GOOGLE',\n",
       "   'types': ['lodging', 'point_of_interest', 'establishment'],\n",
       "   'user_ratings_total': 130,\n",
       "   'vicinity': \"19 Rue des Prêtres Saint-Germain l'Auxerrois, Paris\"},\n",
       "  {'business_status': 'OPERATIONAL',\n",
       "   'geometry': {'location': {'lat': 48.8632711, 'lng': 2.352693},\n",
       "    'viewport': {'northeast': {'lat': 48.86461498029149,\n",
       "      'lng': 2.353958580291502},\n",
       "     'southwest': {'lat': 48.8619170197085, 'lng': 2.351260619708498}}},\n",
       "   'icon': 'https://maps.gstatic.com/mapfiles/place_api/icons/v1/png_71/lodging-71.png',\n",
       "   'icon_background_color': '#909CE1',\n",
       "   'icon_mask_base_uri': 'https://maps.gstatic.com/mapfiles/place_api/icons/v2/hotel_pinlet',\n",
       "   'name': 'Hotel Georgette',\n",
       "   'opening_hours': {'open_now': True},\n",
       "   'photos': [{'height': 1181,\n",
       "     'html_attributions': ['<a href=\"https://maps.google.com/maps/contrib/112851757923591367842\">Hotel Georgette</a>'],\n",
       "     'photo_reference': 'Aap_uEDINfSoIcR-fC7xicPsdmd4HW56BO8KxJdsXZTw_gbq5NXU10UTZdODnRTlBJnlHpDQ9Jtyqx7l2qNZ-EC_EunDyarycazgBtC08nPpVtdrLlX1uZX4jZTRZ5Lkwqk9lNhsN2cCOi8auGvR_N0oiw6PsZRQwKJjmygybqGxeNfBdnBF',\n",
       "     'width': 1772}],\n",
       "   'place_id': 'ChIJZ6OWsRtu5kcRuyOkJ6_e06E',\n",
       "   'plus_code': {'compound_code': 'V973+83 Paris, France',\n",
       "    'global_code': '8FW4V973+83'},\n",
       "   'rating': 4.4,\n",
       "   'reference': 'ChIJZ6OWsRtu5kcRuyOkJ6_e06E',\n",
       "   'scope': 'GOOGLE',\n",
       "   'types': ['lodging', 'point_of_interest', 'establishment'],\n",
       "   'user_ratings_total': 192,\n",
       "   'vicinity': '36 Rue du Grenier-Saint-Lazare, Paris'}],\n",
       " 'status': 'OK'}"
      ]
     },
     "execution_count": 85,
     "metadata": {},
     "output_type": "execute_result"
    }
   ],
   "source": [
    "# Set parameters to search for a hotel in Paris\n",
    "params = {\n",
    "    \"radius\": 5000,\n",
    "    \"type\": \"lodging\", \n",
    "    \"key\": g_key, \n",
    "    \"location\": \"48.8566, 2.3522\"\n",
    "}\n",
    "\n",
    "# Use base URL\n",
    "base_url = \"https://maps.googleapis.com/maps/api/place/nearbysearch/json\"\n",
    "\n",
    "# Make request and get the JSON data from the search\n",
    "hotels = requests.get(base_url, params=params).json()\n",
    "\n",
    "hotels"
   ]
  },
  {
   "cell_type": "code",
   "execution_count": 86,
   "id": "5f928d70",
   "metadata": {},
   "outputs": [
    {
     "data": {
      "text/plain": [
       "20"
      ]
     },
     "execution_count": 86,
     "metadata": {},
     "output_type": "execute_result"
    }
   ],
   "source": [
    "len(hotels[\"results\"])"
   ]
  },
  {
   "cell_type": "code",
   "execution_count": 87,
   "id": "eebf02f8",
   "metadata": {},
   "outputs": [],
   "source": [
    "# Iterate Through hotel_df DataFrame\n",
    "for index, row in hotel_df.iterrows():\n",
    "    # Get the latitude and longititude\n",
    "    lat=row[\"Lat\"]\n",
    "    lng=row[\"Lng\"]\n",
    "    \n",
    "    # Add the latitude and longitude to location key for the params dictionary\n",
    "    params[\"Location\"]=f\"{lat},{lng}\"\n",
    "    \n",
    "    # Use the search term: \"lodging\" and our latitude and longitude\n",
    "    base_url = \"https://maps.googleapis.com/maps/api/place/nearbysearch/json\"\n",
    "    \n",
    "    # Make request and get the JSON data from the search \n",
    "    hotels=requests.get(base_url, params=params).json()\n",
    "    \n",
    "    # Grab the first hotel from the results and store the name.\n",
    "    try:\n",
    "        hotel_df.loc[index, \"Hotel Name\"] = hotels[\"results\"][0][\"name\"]\n",
    "    except (IndexError):\n",
    "        print(\"Hotel not found...skipping.\")\n",
    "\n"
   ]
  },
  {
   "cell_type": "code",
   "execution_count": 83,
   "id": "4156232a",
   "metadata": {},
   "outputs": [
    {
     "data": {
      "text/html": [
       "<div>\n",
       "<style scoped>\n",
       "    .dataframe tbody tr th:only-of-type {\n",
       "        vertical-align: middle;\n",
       "    }\n",
       "\n",
       "    .dataframe tbody tr th {\n",
       "        vertical-align: top;\n",
       "    }\n",
       "\n",
       "    .dataframe thead th {\n",
       "        text-align: right;\n",
       "    }\n",
       "</style>\n",
       "<table border=\"1\" class=\"dataframe\">\n",
       "  <thead>\n",
       "    <tr style=\"text-align: right;\">\n",
       "      <th></th>\n",
       "      <th>City</th>\n",
       "      <th>Country</th>\n",
       "      <th>Max Temp</th>\n",
       "      <th>Lat</th>\n",
       "      <th>Lng</th>\n",
       "      <th>Hotel Name</th>\n",
       "    </tr>\n",
       "  </thead>\n",
       "  <tbody>\n",
       "    <tr>\n",
       "      <th>0</th>\n",
       "      <td>Axim</td>\n",
       "      <td>GH</td>\n",
       "      <td>82.81</td>\n",
       "      <td>4.8699</td>\n",
       "      <td>-2.2405</td>\n",
       "      <td>Hôtel Duo</td>\n",
       "    </tr>\n",
       "    <tr>\n",
       "      <th>5</th>\n",
       "      <td>Rikitea</td>\n",
       "      <td>PF</td>\n",
       "      <td>78.04</td>\n",
       "      <td>-23.1203</td>\n",
       "      <td>-134.9692</td>\n",
       "      <td>Hôtel Duo</td>\n",
       "    </tr>\n",
       "    <tr>\n",
       "      <th>9</th>\n",
       "      <td>Kerewan</td>\n",
       "      <td>GM</td>\n",
       "      <td>87.91</td>\n",
       "      <td>13.4898</td>\n",
       "      <td>-16.0888</td>\n",
       "      <td>Hôtel Duo</td>\n",
       "    </tr>\n",
       "    <tr>\n",
       "      <th>17</th>\n",
       "      <td>Santa Maria</td>\n",
       "      <td>BR</td>\n",
       "      <td>87.10</td>\n",
       "      <td>-29.6842</td>\n",
       "      <td>-53.8069</td>\n",
       "      <td>Hôtel Duo</td>\n",
       "    </tr>\n",
       "    <tr>\n",
       "      <th>21</th>\n",
       "      <td>Chuy</td>\n",
       "      <td>UY</td>\n",
       "      <td>77.65</td>\n",
       "      <td>-33.6971</td>\n",
       "      <td>-53.4616</td>\n",
       "      <td>Hôtel Duo</td>\n",
       "    </tr>\n",
       "    <tr>\n",
       "      <th>25</th>\n",
       "      <td>Le Vauclin</td>\n",
       "      <td>MQ</td>\n",
       "      <td>84.25</td>\n",
       "      <td>14.5452</td>\n",
       "      <td>-60.8388</td>\n",
       "      <td>Hôtel Duo</td>\n",
       "    </tr>\n",
       "    <tr>\n",
       "      <th>26</th>\n",
       "      <td>Puerto Ayora</td>\n",
       "      <td>EC</td>\n",
       "      <td>85.96</td>\n",
       "      <td>-0.7393</td>\n",
       "      <td>-90.3518</td>\n",
       "      <td>Hôtel Duo</td>\n",
       "    </tr>\n",
       "    <tr>\n",
       "      <th>31</th>\n",
       "      <td>Cidreira</td>\n",
       "      <td>BR</td>\n",
       "      <td>77.04</td>\n",
       "      <td>-30.1811</td>\n",
       "      <td>-50.2056</td>\n",
       "      <td>Hôtel Duo</td>\n",
       "    </tr>\n",
       "    <tr>\n",
       "      <th>33</th>\n",
       "      <td>Atuona</td>\n",
       "      <td>PF</td>\n",
       "      <td>78.04</td>\n",
       "      <td>-9.8000</td>\n",
       "      <td>-139.0333</td>\n",
       "      <td>Hôtel Duo</td>\n",
       "    </tr>\n",
       "    <tr>\n",
       "      <th>46</th>\n",
       "      <td>Souillac</td>\n",
       "      <td>MU</td>\n",
       "      <td>79.36</td>\n",
       "      <td>-20.5167</td>\n",
       "      <td>57.5167</td>\n",
       "      <td>Hôtel Duo</td>\n",
       "    </tr>\n",
       "  </tbody>\n",
       "</table>\n",
       "</div>"
      ],
      "text/plain": [
       "            City Country  Max Temp      Lat       Lng Hotel Name\n",
       "0           Axim      GH     82.81   4.8699   -2.2405  Hôtel Duo\n",
       "5        Rikitea      PF     78.04 -23.1203 -134.9692  Hôtel Duo\n",
       "9        Kerewan      GM     87.91  13.4898  -16.0888  Hôtel Duo\n",
       "17   Santa Maria      BR     87.10 -29.6842  -53.8069  Hôtel Duo\n",
       "21          Chuy      UY     77.65 -33.6971  -53.4616  Hôtel Duo\n",
       "25    Le Vauclin      MQ     84.25  14.5452  -60.8388  Hôtel Duo\n",
       "26  Puerto Ayora      EC     85.96  -0.7393  -90.3518  Hôtel Duo\n",
       "31      Cidreira      BR     77.04 -30.1811  -50.2056  Hôtel Duo\n",
       "33        Atuona      PF     78.04  -9.8000 -139.0333  Hôtel Duo\n",
       "46      Souillac      MU     79.36 -20.5167   57.5167  Hôtel Duo"
      ]
     },
     "execution_count": 83,
     "metadata": {},
     "output_type": "execute_result"
    }
   ],
   "source": [
    "hotel_df.head(10)"
   ]
  },
  {
   "cell_type": "code",
   "execution_count": 88,
   "id": "fc3b0c6d",
   "metadata": {},
   "outputs": [],
   "source": [
    "# Create a Maximum Temperature Heatmap from a Hotel DataFrame"
   ]
  },
  {
   "cell_type": "code",
   "execution_count": 91,
   "id": "31c89387",
   "metadata": {},
   "outputs": [
    {
     "data": {
      "application/vnd.jupyter.widget-view+json": {
       "model_id": "e0be03d9b881472db2c56ffa853aacca",
       "version_major": 2,
       "version_minor": 0
      },
      "text/plain": [
       "Figure(layout=FigureLayout(height='420px'))"
      ]
     },
     "metadata": {},
     "output_type": "display_data"
    }
   ],
   "source": [
    "# Add a heatmap of temperature for the vacation spots and marker for each city.\n",
    "locations = hotel_df[[\"Lat\", \"Lng\"]]\n",
    "max_temp = hotel_df[\"Max Temp\"]\n",
    "fig = gmaps.figure(center=(30.0, 31.0), zoom_level=1.5)\n",
    "heat_layer = gmaps.heatmap_layer(locations, weights=max_temp,\n",
    "             dissipating=False, max_intensity=300, point_radius=4)\n",
    "marker_layer = gmaps.marker_layer(locations)\n",
    "fig.add_layer(heat_layer)\n",
    "fig.add_layer(marker_layer)\n",
    "# Call the figure to plot the data.\n",
    "fig"
   ]
  },
  {
   "cell_type": "code",
   "execution_count": 92,
   "id": "0d4dfe45",
   "metadata": {},
   "outputs": [],
   "source": [
    "info_box_template = \"\"\"\n",
    "<dl>\n",
    "<dt>Hotel Name</dt><dd>{Hotel Name}</dd>\n",
    "<dt>City</dt><dd>{City}</dd>\n",
    "<dt>Country</dt><dd>{Country}</dd>\n",
    "<dt>Max Temp</dt><dd>{Max Temp} °F</dd>\n",
    "</dl>\n",
    "\"\"\""
   ]
  },
  {
   "cell_type": "code",
   "execution_count": 93,
   "id": "285eba98",
   "metadata": {},
   "outputs": [],
   "source": [
    "# Store the DataFrame row\n",
    "# Iterate through each row of the hotel_df and then format the info_box_template with the data we set to populate from each row\n",
    "hotel_info=[info_box_template.format(**row) for index, row in hotel_df.iterrows()]"
   ]
  },
  {
   "cell_type": "code",
   "execution_count": 94,
   "id": "a3e82f9b",
   "metadata": {},
   "outputs": [
    {
     "data": {
      "application/vnd.jupyter.widget-view+json": {
       "model_id": "46710d859dad45ef8d8cba2b8651e960",
       "version_major": 2,
       "version_minor": 0
      },
      "text/plain": [
       "Figure(layout=FigureLayout(height='420px'))"
      ]
     },
     "metadata": {},
     "output_type": "display_data"
    }
   ],
   "source": [
    "# Add a heatmap of temperature for the vacation spots and marker for each city.\n",
    "locations = hotel_df[[\"Lat\", \"Lng\"]]\n",
    "max_temp = hotel_df[\"Max Temp\"]\n",
    "fig = gmaps.figure(center=(30.0, 31.0), zoom_level=1.5)\n",
    "heat_layer = gmaps.heatmap_layer(locations, weights=max_temp,\n",
    "             dissipating=False, max_intensity=300, point_radius=4)\n",
    "marker_layer = gmaps.marker_layer(locations, info_box_content=hotel_info)\n",
    "fig.add_layer(heat_layer)\n",
    "fig.add_layer(marker_layer)\n",
    "# Call the figure to plot the data.\n",
    "fig"
   ]
  },
  {
   "cell_type": "code",
   "execution_count": null,
   "id": "fef5163e",
   "metadata": {},
   "outputs": [],
   "source": []
  }
 ],
 "metadata": {
  "kernelspec": {
   "display_name": "PythonData",
   "language": "python",
   "name": "pythondata"
  },
  "language_info": {
   "codemirror_mode": {
    "name": "ipython",
    "version": 3
   },
   "file_extension": ".py",
   "mimetype": "text/x-python",
   "name": "python",
   "nbconvert_exporter": "python",
   "pygments_lexer": "ipython3",
   "version": "3.7.11"
  }
 },
 "nbformat": 4,
 "nbformat_minor": 5
}
